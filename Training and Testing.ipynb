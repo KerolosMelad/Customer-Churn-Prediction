{
 "cells": [
  {
   "cell_type": "markdown",
   "id": "06df924f-8106-4a52-aaf0-75bb28d2498b",
   "metadata": {},
   "source": [
    "<h1><center>Customer Churn Prediction</center></h1>\n",
    "<h3><center>Training and Testing</center></h3>\n",
    "\n"
   ]
  },
  {
   "cell_type": "markdown",
   "id": "6ab114db-5157-45fd-a750-73bbdc2b7afe",
   "metadata": {},
   "source": [
    "In this notebook, I made data 2 ML based-experiments to prove that the engineered features achieve better accuracy. In addition to reporting different acurracy metrics\n",
    "\n",
    "<div id=\"toc_container\">\n",
    "<p class=\"toc_title\">Table Of Contents</p>\n",
    "<ul class=\"toc_list\">\n",
    "  <li><a href=\"#ex_1\">1. 1st Experiment </a></li>\n",
    "\n",
    "<li><a href=\"#ex_2\">2. 2nd Experiment</a></li> \n",
    "\n",
    "<li><a href=\"#results\">3. Result Analysis </a></li> \n",
    "    \n",
    "<li><a href=\"#deep_learning\">3. Deep Learning (Optional)</a></li> \n",
    "\n",
    "<li><a href=\"#submission\">4. Submission</a></li> \n",
    "  <ul>\n",
    "    <li><a href=\"#kaggle\">4.1 Kaggle Results</a></li>\n",
    "  <ul>\n",
    "\n",
    "</div>\n"
   ]
  },
  {
   "cell_type": "code",
   "execution_count": 1,
   "id": "b700e686-df2d-4938-ab30-540ea99febbf",
   "metadata": {},
   "outputs": [],
   "source": [
    "# importing the needed Packages\n",
    "import pandas as pd\n",
    "from sklearn.metrics import accuracy_score,classification_report ,confusion_matrix # required Accuracy metirics  mainly(Accuracy score,  F1 -secore)\n",
    "from utils.preprocessing import feature_engineering, remove_outliers,encoder ,features_selection ,features_scaling ,KNN_oversample\n",
    "from sklearn.ensemble import RandomForestClassifier\n",
    "import eli5\n",
    "from eli5.sklearn import PermutationImportance\n",
    "import matplotlib.pyplot as plt\n"
   ]
  },
  {
   "cell_type": "code",
   "execution_count": 2,
   "id": "452073b8-cb94-4bfd-87f2-e0bba738a71a",
   "metadata": {},
   "outputs": [],
   "source": [
    "train_df = pd.read_csv('datasets/train_set.csv')\n",
    "test_df = pd.read_csv('datasets/test_set.csv')"
   ]
  },
  {
   "cell_type": "markdown",
   "id": "2cccb699-31b4-46cd-ba44-2e465c79084a",
   "metadata": {},
   "source": [
    "In this case, it's better to use **Machine Learning** model than **Deep Learning** because our dataset isn't big.\n",
    "\n",
    "That why I went for data engineering techinques to introduce better and meaningful featuers\n",
    "\n",
    "\n"
   ]
  },
  {
   "cell_type": "markdown",
   "id": "10ffba6e-186e-4e9c-acd4-4dbccb41b5d5",
   "metadata": {},
   "source": [
    "Too many Classifiers can be used in this case, but I chose ,**Ensemble Learning**, Random forest classifier"
   ]
  },
  {
   "cell_type": "markdown",
   "id": "a0457f2a-280f-4930-89f6-c07b46276150",
   "metadata": {},
   "source": [
    "Define the train and test pipelines"
   ]
  },
  {
   "cell_type": "code",
   "execution_count": 3,
   "id": "046f03e3-59d2-4ca9-8e92-8a63a0467a50",
   "metadata": {},
   "outputs": [],
   "source": [
    "def train_pipeline(df , with_features):\n",
    "    result  = df.copy()\n",
    "    result,idx_removed = remove_outliers(result ,['minutes' , 'charge'], 'no')\n",
    "    result = feature_engineering(result ,with_features ,with_features ,with_features,with_features)\n",
    "    result =  features_scaling(result)\n",
    "    result,cols_encoded = encoder(result)\n",
    "    result = features_selection(result, with_features)\n",
    "    X, y = KNN_oversample(result)\n",
    "    rf_clf = RandomForestClassifier(random_state=6 )\n",
    "    rf_clf.fit(X, y)\n",
    "    return rf_clf , X,y"
   ]
  },
  {
   "cell_type": "code",
   "execution_count": 4,
   "id": "8a9f3bac-d5fa-4925-8a2e-a5e66ea92495",
   "metadata": {},
   "outputs": [],
   "source": [
    "def test_pipeline(df , with_features , with_target):\n",
    "    result  = df.copy()\n",
    "    result = feature_engineering(result ,with_features ,with_features ,with_features,with_features)\n",
    "    result =  features_scaling(result)\n",
    "    result,cols_encoded = encoder(result, with_target)\n",
    "    result = features_selection(result, with_features)\n",
    "    if with_target:\n",
    "        X_val,y_val = result.drop(['churn_encoded'] , axis =1) , result['churn_encoded']\n",
    "        return X_val,y_val\n",
    "    else:\n",
    "        return result"
   ]
  },
  {
   "cell_type": "markdown",
   "id": "2f11b5c4-b438-4336-8983-1ad030fd90a2",
   "metadata": {},
   "source": [
    "In the testing phase, We can't perform outliers removal and oversampling"
   ]
  },
  {
   "cell_type": "markdown",
   "id": "c8f22790-1527-48af-a90b-04e6af5948af",
   "metadata": {},
   "source": [
    "## 1st Expirment  <a class=\"anchor\" id=\"ex_1\"></a>"
   ]
  },
  {
   "cell_type": "markdown",
   "id": "c780cf15-e438-4888-b3b5-a33ae2b38f0c",
   "metadata": {},
   "source": [
    "In this Experiment, I will train and test the Random Forest Classifier on the dataset **with the engineered featuers**"
   ]
  },
  {
   "cell_type": "code",
   "execution_count": 15,
   "id": "ae61fe93-b2ea-4f43-900e-d03fa64a3bcd",
   "metadata": {},
   "outputs": [],
   "source": [
    "with_features_engineered = True\n",
    "with_target = True"
   ]
  },
  {
   "cell_type": "code",
   "execution_count": 16,
   "id": "33f87a58-b92e-4794-b352-33033d14641b",
   "metadata": {},
   "outputs": [
    {
     "name": "stdout",
     "output_type": "stream",
     "text": [
      "When chrun =  no  the  number of outilers in  total_night_minutes :  25\n",
      "When chrun =  no  the  number of outilers in  total_day_minutes :  16\n",
      "When chrun =  no  the  number of outilers in  total_eve_minutes :  23\n",
      "percentage of outliers: 2.3110785033015406\n",
      "\n",
      "\n",
      "When chrun =  no  the  number of outilers in  total_night_charge :  2\n",
      "When chrun =  no  the  number of outilers in  total_day_charge :  1\n",
      "When chrun =  no  the  number of outilers in  total_eve_charge :  1\n",
      "percentage of outliers: 0.1502065339842283\n",
      "\n",
      "\n",
      "normalized cols:  ['number_customer_service_calls', 'number_vmail_messages']\n",
      "standarized cols:  ['account_length' 'intl_charge_per_minutes' 'total_charge'\n",
      " 'total_day_calls' 'total_day_charge' 'total_day_minutes'\n",
      " 'total_eve_calls' 'total_eve_charge' 'total_eve_minutes'\n",
      " 'total_intl_calls' 'total_intl_charge' 'total_intl_minutes'\n",
      " 'total_minutes' 'total_night_calls' 'total_night_charge'\n",
      " 'total_night_minutes' 'voice_international_subscriber_encoded']\n",
      "Tatget classes counts after oversampling:\n",
      " 0    2659\n",
      "1    2659\n",
      "Name: churn_encoded, dtype: int64\n"
     ]
    },
    {
     "name": "stderr",
     "output_type": "stream",
     "text": [
      "C:\\Users\\RC\\Desktop\\Halan\\utils\\preprocessing.py:20: SettingWithCopyWarning: \n",
      "A value is trying to be set on a copy of a slice from a DataFrame\n",
      "\n",
      "See the caveats in the documentation: https://pandas.pydata.org/pandas-docs/stable/user_guide/indexing.html#returning-a-view-versus-a-copy\n",
      "  df['voice_international_subscriber_encoded'][voice_internationa_plan.index] =1\n"
     ]
    }
   ],
   "source": [
    "rf_clf1 , X_exp1,y_exp1 = train_pipeline(train_df , with_features_engineered)"
   ]
  },
  {
   "cell_type": "code",
   "execution_count": null,
   "id": "9a5a0125-9bf7-451f-acb3-66df6f0eeee1",
   "metadata": {},
   "outputs": [],
   "source": []
  },
  {
   "cell_type": "code",
   "execution_count": 17,
   "id": "623f509b-e127-43c4-8aca-816d2f6e9c46",
   "metadata": {},
   "outputs": [
    {
     "name": "stdout",
     "output_type": "stream",
     "text": [
      "normalized cols:  ['number_customer_service_calls', 'number_vmail_messages']\n",
      "standarized cols:  ['account_length' 'intl_charge_per_minutes' 'total_charge'\n",
      " 'total_day_calls' 'total_day_charge' 'total_day_minutes'\n",
      " 'total_eve_calls' 'total_eve_charge' 'total_eve_minutes'\n",
      " 'total_intl_calls' 'total_intl_charge' 'total_intl_minutes'\n",
      " 'total_minutes' 'total_night_calls' 'total_night_charge'\n",
      " 'total_night_minutes' 'voice_international_subscriber_encoded']\n"
     ]
    },
    {
     "name": "stderr",
     "output_type": "stream",
     "text": [
      "C:\\Users\\RC\\Desktop\\Halan\\utils\\preprocessing.py:20: SettingWithCopyWarning: \n",
      "A value is trying to be set on a copy of a slice from a DataFrame\n",
      "\n",
      "See the caveats in the documentation: https://pandas.pydata.org/pandas-docs/stable/user_guide/indexing.html#returning-a-view-versus-a-copy\n",
      "  df['voice_international_subscriber_encoded'][voice_internationa_plan.index] =1\n"
     ]
    }
   ],
   "source": [
    "X_val_exp1,y_val_exp1 = test_pipeline(test_df , with_features_engineered, with_target) "
   ]
  },
  {
   "cell_type": "code",
   "execution_count": 18,
   "id": "3a1c42ac-113f-4fee-9420-00fe0a992f6b",
   "metadata": {},
   "outputs": [],
   "source": [
    "exp1_preds= rf_clf1.predict(X_val_exp1)"
   ]
  },
  {
   "cell_type": "markdown",
   "id": "c90d0a31-4ee0-454c-833d-3a2bfd9c8bcc",
   "metadata": {},
   "source": [
    "## 2nd Expirment  <a class=\"anchor\" id=\"ex_2\"></a>"
   ]
  },
  {
   "cell_type": "markdown",
   "id": "1240743e-1a50-405c-af72-eaa005494fd1",
   "metadata": {},
   "source": [
    "In this Experiment, I will train and test the Random Forest Classifier on the dataset **without the engineered featurese**"
   ]
  },
  {
   "cell_type": "code",
   "execution_count": 19,
   "id": "c52feaec-2174-4023-81d5-82ad477fb7f1",
   "metadata": {},
   "outputs": [],
   "source": [
    "with_features_engineered = False"
   ]
  },
  {
   "cell_type": "code",
   "execution_count": 20,
   "id": "a1177f4b-ba8f-477e-ba23-323cee6d73b2",
   "metadata": {},
   "outputs": [
    {
     "name": "stdout",
     "output_type": "stream",
     "text": [
      "When chrun =  no  the  number of outilers in  total_night_minutes :  25\n",
      "When chrun =  no  the  number of outilers in  total_day_minutes :  16\n",
      "When chrun =  no  the  number of outilers in  total_eve_minutes :  23\n",
      "percentage of outliers: 2.3110785033015406\n",
      "\n",
      "\n",
      "When chrun =  no  the  number of outilers in  total_night_charge :  2\n",
      "When chrun =  no  the  number of outilers in  total_day_charge :  1\n",
      "When chrun =  no  the  number of outilers in  total_eve_charge :  1\n",
      "percentage of outliers: 0.1502065339842283\n",
      "\n",
      "\n",
      "normalized cols:  ['number_customer_service_calls', 'number_vmail_messages']\n",
      "standarized cols:  ['account_length' 'total_day_calls' 'total_day_charge' 'total_day_minutes'\n",
      " 'total_eve_calls' 'total_eve_charge' 'total_eve_minutes'\n",
      " 'total_intl_calls' 'total_intl_charge' 'total_intl_minutes'\n",
      " 'total_night_calls' 'total_night_charge' 'total_night_minutes']\n",
      "Tatget classes counts after oversampling:\n",
      " 0    2659\n",
      "1    2659\n",
      "Name: churn_encoded, dtype: int64\n"
     ]
    }
   ],
   "source": [
    "rf_clf2 , X_exp2,y_exp2 = train_pipeline(train_df , with_features_engineered)"
   ]
  },
  {
   "cell_type": "code",
   "execution_count": null,
   "id": "49973182-1a26-46e0-a55e-94f4d6ddd02b",
   "metadata": {},
   "outputs": [],
   "source": []
  },
  {
   "cell_type": "code",
   "execution_count": 21,
   "id": "e59644f5-3b26-4991-b0a8-f1691e9b3161",
   "metadata": {},
   "outputs": [
    {
     "name": "stdout",
     "output_type": "stream",
     "text": [
      "normalized cols:  ['number_customer_service_calls', 'number_vmail_messages']\n",
      "standarized cols:  ['account_length' 'total_day_calls' 'total_day_charge' 'total_day_minutes'\n",
      " 'total_eve_calls' 'total_eve_charge' 'total_eve_minutes'\n",
      " 'total_intl_calls' 'total_intl_charge' 'total_intl_minutes'\n",
      " 'total_night_calls' 'total_night_charge' 'total_night_minutes']\n"
     ]
    }
   ],
   "source": [
    "X_val_exp2,y_val_exp2 = test_pipeline(test_df , with_features_engineered , with_target)"
   ]
  },
  {
   "cell_type": "code",
   "execution_count": null,
   "id": "aea1c848-8a70-45bd-9f18-13062328f0de",
   "metadata": {},
   "outputs": [],
   "source": []
  },
  {
   "cell_type": "code",
   "execution_count": 22,
   "id": "88cff56e-bc33-4455-8dfd-7cea51502a95",
   "metadata": {},
   "outputs": [],
   "source": [
    "exp2_preds= rf_clf2.predict(X_val_exp2)"
   ]
  },
  {
   "cell_type": "markdown",
   "id": "417fd76a-1e7d-4be5-98cf-df51b81c9463",
   "metadata": {},
   "source": [
    "## Result Analysis <a class=\"anchor\" id=\"results\"></a>"
   ]
  },
  {
   "cell_type": "code",
   "execution_count": 23,
   "id": "7d918a6d-17e6-4402-989f-935aae90986b",
   "metadata": {},
   "outputs": [],
   "source": [
    "def reporting(exp_preds, y_val):\n",
    "    print(classification_report(exp_preds, y_val))\n",
    "    title = \"Experiment acuracy is: \" + str(accuracy_score(exp_preds, y_val)* 100)\n",
    "    \n",
    "    C_M = confusion_matrix(exp_preds, y_val)\n",
    "    plt.rc('figure', figsize=[5,5])\n",
    "    plt.matshow(C_M,cmap=\"Blues\")\n",
    "    plt.title(title)\n",
    "    for i in range(0,C_M.shape[0]):\n",
    "        for j in range(0,C_M.shape[1]):\n",
    "            plt.annotate(C_M[i,j],(j,i))\n",
    "    "
   ]
  },
  {
   "cell_type": "markdown",
   "id": "86919eb7-1b7c-4e02-a65d-9be9ee4de55a",
   "metadata": {},
   "source": [
    "Expirment 1 Results"
   ]
  },
  {
   "cell_type": "code",
   "execution_count": 24,
   "id": "2140ad54-cfc6-4667-946c-4d7ddef8f2c7",
   "metadata": {},
   "outputs": [
    {
     "name": "stdout",
     "output_type": "stream",
     "text": [
      "              precision    recall  f1-score   support\n",
      "\n",
      "           0       0.99      0.98      0.98       933\n",
      "           1       0.86      0.91      0.88       130\n",
      "\n",
      "    accuracy                           0.97      1063\n",
      "   macro avg       0.92      0.94      0.93      1063\n",
      "weighted avg       0.97      0.97      0.97      1063\n",
      "\n"
     ]
    },
    {
     "data": {
      "image/png": "[encoded data removed]",
      "text/plain": [
       "<Figure size 360x360 with 1 Axes>"
      ]
     },
     "metadata": {
      "needs_background": "light"
     },
     "output_type": "display_data"
    }
   ],
   "source": [
    "reporting(exp1_preds, y_val_exp1)"
   ]
  },
  {
   "cell_type": "markdown",
   "id": "7690b3f3-793b-4b91-8ada-1108018ee389",
   "metadata": {},
   "source": [
    "However expirment 2 Results"
   ]
  },
  {
   "cell_type": "code",
   "execution_count": 25,
   "id": "c06185be-d454-4280-924d-0509033e5552",
   "metadata": {},
   "outputs": [
    {
     "name": "stdout",
     "output_type": "stream",
     "text": [
      "              precision    recall  f1-score   support\n",
      "\n",
      "           0       0.95      0.97      0.96       909\n",
      "           1       0.80      0.71      0.76       154\n",
      "\n",
      "    accuracy                           0.93      1063\n",
      "   macro avg       0.88      0.84      0.86      1063\n",
      "weighted avg       0.93      0.93      0.93      1063\n",
      "\n"
     ]
    },
    {
     "data": {
      "image/png": "[encoded data removed]",
      "text/plain": [
       "<Figure size 360x360 with 1 Axes>"
      ]
     },
     "metadata": {
      "needs_background": "light"
     },
     "output_type": "display_data"
    }
   ],
   "source": [
    "reporting(exp2_preds, y_val_exp2)"
   ]
  },
  {
   "cell_type": "markdown",
   "id": "8cf701ca-ae7f-4006-9d48-09534b30fdb4",
   "metadata": {},
   "source": [
    "Clearly, We can see that the model trained on the engineered featuers could achieve about 3-4% higher in the total accuracy \n",
    "\n",
    "and could classify better on the both classes, That means model in experiment 1 is a little less imbaised than the one in expirment 2\n",
    "\n",
    "Moreover, model in experiment 1 got higher f1- score for both classes"
   ]
  },
  {
   "cell_type": "code",
   "execution_count": 26,
   "id": "13b5e431-fec8-4193-902b-abf404e5a0c0",
   "metadata": {},
   "outputs": [
    {
     "data": {
      "text/html": [
       "\n",
       "    <style>\n",
       "    table.eli5-weights tr:hover {\n",
       "        filter: brightness(85%);\n",
       "    }\n",
       "</style>\n",
       "\n",
       "\n",
       "\n",
       "    \n",
       "\n",
       "    \n",
       "\n",
       "    \n",
       "\n",
       "    \n",
       "\n",
       "    \n",
       "\n",
       "    \n",
       "\n",
       "\n",
       "    \n",
       "\n",
       "    \n",
       "\n",
       "    \n",
       "\n",
       "    \n",
       "\n",
       "    \n",
       "\n",
       "    \n",
       "\n",
       "\n",
       "    \n",
       "\n",
       "    \n",
       "\n",
       "    \n",
       "\n",
       "    \n",
       "\n",
       "    \n",
       "        <table class=\"eli5-weights eli5-feature-importances\" style=\"border-collapse: collapse; border: none; margin-top: 0em; table-layout: auto;\">\n",
       "    <thead>\n",
       "    <tr style=\"border: none;\">\n",
       "        <th style=\"padding: 0 1em 0 0.5em; text-align: right; border: none;\">Weight</th>\n",
       "        <th style=\"padding: 0 0.5em 0 0.5em; text-align: left; border: none;\">Feature</th>\n",
       "    </tr>\n",
       "    </thead>\n",
       "    <tbody>\n",
       "    \n",
       "        <tr style=\"background-color: hsl(120, 100.00%, 80.00%); border: none;\">\n",
       "            <td style=\"padding: 0 1em 0 0.5em; text-align: right; border: none;\">\n",
       "                0.1059\n",
       "                \n",
       "                    &plusmn; 0.0037\n",
       "                \n",
       "            </td>\n",
       "            <td style=\"padding: 0 0.5em 0 0.5em; text-align: left; border: none;\">\n",
       "                total_charge\n",
       "            </td>\n",
       "        </tr>\n",
       "    \n",
       "        <tr style=\"background-color: hsl(120, 100.00%, 88.51%); border: none;\">\n",
       "            <td style=\"padding: 0 1em 0 0.5em; text-align: right; border: none;\">\n",
       "                0.0480\n",
       "                \n",
       "                    &plusmn; 0.0094\n",
       "                \n",
       "            </td>\n",
       "            <td style=\"padding: 0 0.5em 0 0.5em; text-align: left; border: none;\">\n",
       "                number_customer_service_calls\n",
       "            </td>\n",
       "        </tr>\n",
       "    \n",
       "        <tr style=\"background-color: hsl(120, 100.00%, 89.15%); border: none;\">\n",
       "            <td style=\"padding: 0 1em 0 0.5em; text-align: right; border: none;\">\n",
       "                0.0442\n",
       "                \n",
       "                    &plusmn; 0.0041\n",
       "                \n",
       "            </td>\n",
       "            <td style=\"padding: 0 0.5em 0 0.5em; text-align: left; border: none;\">\n",
       "                international_plan_encoded\n",
       "            </td>\n",
       "        </tr>\n",
       "    \n",
       "        <tr style=\"background-color: hsl(120, 100.00%, 92.68%); border: none;\">\n",
       "            <td style=\"padding: 0 1em 0 0.5em; text-align: right; border: none;\">\n",
       "                0.0252\n",
       "                \n",
       "                    &plusmn; 0.0087\n",
       "                \n",
       "            </td>\n",
       "            <td style=\"padding: 0 0.5em 0 0.5em; text-align: left; border: none;\">\n",
       "                voice_mail_plan_encoded\n",
       "            </td>\n",
       "        </tr>\n",
       "    \n",
       "        <tr style=\"background-color: hsl(120, 100.00%, 93.42%); border: none;\">\n",
       "            <td style=\"padding: 0 1em 0 0.5em; text-align: right; border: none;\">\n",
       "                0.0216\n",
       "                \n",
       "                    &plusmn; 0.0053\n",
       "                \n",
       "            </td>\n",
       "            <td style=\"padding: 0 0.5em 0 0.5em; text-align: left; border: none;\">\n",
       "                total_intl_calls\n",
       "            </td>\n",
       "        </tr>\n",
       "    \n",
       "        <tr style=\"background-color: hsl(120, 100.00%, 96.48%); border: none;\">\n",
       "            <td style=\"padding: 0 1em 0 0.5em; text-align: right; border: none;\">\n",
       "                0.0088\n",
       "                \n",
       "                    &plusmn; 0.0026\n",
       "                \n",
       "            </td>\n",
       "            <td style=\"padding: 0 0.5em 0 0.5em; text-align: left; border: none;\">\n",
       "                total_intl_minutes\n",
       "            </td>\n",
       "        </tr>\n",
       "    \n",
       "        <tr style=\"background-color: hsl(120, 100.00%, 96.54%); border: none;\">\n",
       "            <td style=\"padding: 0 1em 0 0.5em; text-align: right; border: none;\">\n",
       "                0.0087\n",
       "                \n",
       "                    &plusmn; 0.0018\n",
       "                \n",
       "            </td>\n",
       "            <td style=\"padding: 0 0.5em 0 0.5em; text-align: left; border: none;\">\n",
       "                total_intl_charge\n",
       "            </td>\n",
       "        </tr>\n",
       "    \n",
       "        <tr style=\"background-color: hsl(120, 100.00%, 97.68%); border: none;\">\n",
       "            <td style=\"padding: 0 1em 0 0.5em; text-align: right; border: none;\">\n",
       "                0.0049\n",
       "                \n",
       "                    &plusmn; 0.0044\n",
       "                \n",
       "            </td>\n",
       "            <td style=\"padding: 0 0.5em 0 0.5em; text-align: left; border: none;\">\n",
       "                number_vmail_messages\n",
       "            </td>\n",
       "        </tr>\n",
       "    \n",
       "        <tr style=\"background-color: hsl(120, 100.00%, 98.13%); border: none;\">\n",
       "            <td style=\"padding: 0 1em 0 0.5em; text-align: right; border: none;\">\n",
       "                0.0036\n",
       "                \n",
       "                    &plusmn; 0.0008\n",
       "                \n",
       "            </td>\n",
       "            <td style=\"padding: 0 0.5em 0 0.5em; text-align: left; border: none;\">\n",
       "                voice_international_subscriber_encoded\n",
       "            </td>\n",
       "        </tr>\n",
       "    \n",
       "        <tr style=\"background-color: hsl(120, 100.00%, 98.42%); border: none;\">\n",
       "            <td style=\"padding: 0 1em 0 0.5em; text-align: right; border: none;\">\n",
       "                0.0028\n",
       "                \n",
       "                    &plusmn; 0.0053\n",
       "                \n",
       "            </td>\n",
       "            <td style=\"padding: 0 0.5em 0 0.5em; text-align: left; border: none;\">\n",
       "                state_0\n",
       "            </td>\n",
       "        </tr>\n",
       "    \n",
       "        <tr style=\"background-color: hsl(120, 100.00%, 98.73%); border: none;\">\n",
       "            <td style=\"padding: 0 1em 0 0.5em; text-align: right; border: none;\">\n",
       "                0.0021\n",
       "                \n",
       "                    &plusmn; 0.0028\n",
       "                \n",
       "            </td>\n",
       "            <td style=\"padding: 0 0.5em 0 0.5em; text-align: left; border: none;\">\n",
       "                state_4\n",
       "            </td>\n",
       "        </tr>\n",
       "    \n",
       "        <tr style=\"background-color: hsl(120, 100.00%, 98.73%); border: none;\">\n",
       "            <td style=\"padding: 0 1em 0 0.5em; text-align: right; border: none;\">\n",
       "                0.0021\n",
       "                \n",
       "                    &plusmn; 0.0032\n",
       "                \n",
       "            </td>\n",
       "            <td style=\"padding: 0 0.5em 0 0.5em; text-align: left; border: none;\">\n",
       "                total_minutes\n",
       "            </td>\n",
       "        </tr>\n",
       "    \n",
       "        <tr style=\"background-color: hsl(120, 100.00%, 98.81%); border: none;\">\n",
       "            <td style=\"padding: 0 1em 0 0.5em; text-align: right; border: none;\">\n",
       "                0.0019\n",
       "                \n",
       "                    &plusmn; 0.0027\n",
       "                \n",
       "            </td>\n",
       "            <td style=\"padding: 0 0.5em 0 0.5em; text-align: left; border: none;\">\n",
       "                total_day_calls\n",
       "            </td>\n",
       "        </tr>\n",
       "    \n",
       "        <tr style=\"background-color: hsl(120, 100.00%, 99.17%); border: none;\">\n",
       "            <td style=\"padding: 0 1em 0 0.5em; text-align: right; border: none;\">\n",
       "                0.0011\n",
       "                \n",
       "                    &plusmn; 0.0014\n",
       "                \n",
       "            </td>\n",
       "            <td style=\"padding: 0 0.5em 0 0.5em; text-align: left; border: none;\">\n",
       "                total_night_calls\n",
       "            </td>\n",
       "        </tr>\n",
       "    \n",
       "        <tr style=\"background-color: hsl(120, 100.00%, 99.17%); border: none;\">\n",
       "            <td style=\"padding: 0 1em 0 0.5em; text-align: right; border: none;\">\n",
       "                0.0011\n",
       "                \n",
       "                    &plusmn; 0.0022\n",
       "                \n",
       "            </td>\n",
       "            <td style=\"padding: 0 0.5em 0 0.5em; text-align: left; border: none;\">\n",
       "                intl_charge_per_minutes\n",
       "            </td>\n",
       "        </tr>\n",
       "    \n",
       "        <tr style=\"background-color: hsl(120, 100.00%, 99.49%); border: none;\">\n",
       "            <td style=\"padding: 0 1em 0 0.5em; text-align: right; border: none;\">\n",
       "                0.0006\n",
       "                \n",
       "                    &plusmn; 0.0015\n",
       "                \n",
       "            </td>\n",
       "            <td style=\"padding: 0 0.5em 0 0.5em; text-align: left; border: none;\">\n",
       "                state_5\n",
       "            </td>\n",
       "        </tr>\n",
       "    \n",
       "        <tr style=\"background-color: hsl(120, 100.00%, 99.61%); border: none;\">\n",
       "            <td style=\"padding: 0 1em 0 0.5em; text-align: right; border: none;\">\n",
       "                0.0004\n",
       "                \n",
       "                    &plusmn; 0.0015\n",
       "                \n",
       "            </td>\n",
       "            <td style=\"padding: 0 0.5em 0 0.5em; text-align: left; border: none;\">\n",
       "                total_eve_minutes\n",
       "            </td>\n",
       "        </tr>\n",
       "    \n",
       "        <tr style=\"background-color: hsl(120, 100.00%, 99.76%); border: none;\">\n",
       "            <td style=\"padding: 0 1em 0 0.5em; text-align: right; border: none;\">\n",
       "                0.0002\n",
       "                \n",
       "                    &plusmn; 0.0014\n",
       "                \n",
       "            </td>\n",
       "            <td style=\"padding: 0 0.5em 0 0.5em; text-align: left; border: none;\">\n",
       "                total_night_minutes\n",
       "            </td>\n",
       "        </tr>\n",
       "    \n",
       "        <tr style=\"background-color: hsl(0, 100.00%, 99.76%); border: none;\">\n",
       "            <td style=\"padding: 0 1em 0 0.5em; text-align: right; border: none;\">\n",
       "                -0.0002\n",
       "                \n",
       "                    &plusmn; 0.0022\n",
       "                \n",
       "            </td>\n",
       "            <td style=\"padding: 0 0.5em 0 0.5em; text-align: left; border: none;\">\n",
       "                account_length\n",
       "            </td>\n",
       "        </tr>\n",
       "    \n",
       "        <tr style=\"background-color: hsl(0, 100.00%, 99.76%); border: none;\">\n",
       "            <td style=\"padding: 0 1em 0 0.5em; text-align: right; border: none;\">\n",
       "                -0.0002\n",
       "                \n",
       "                    &plusmn; 0.0014\n",
       "                \n",
       "            </td>\n",
       "            <td style=\"padding: 0 0.5em 0 0.5em; text-align: left; border: none;\">\n",
       "                state_2\n",
       "            </td>\n",
       "        </tr>\n",
       "    \n",
       "    \n",
       "        \n",
       "            <tr style=\"background-color: hsl(0, 100.00%, 99.76%); border: none;\">\n",
       "                <td colspan=\"2\" style=\"padding: 0 0.5em 0 0.5em; text-align: center; border: none; white-space: nowrap;\">\n",
       "                    <i>&hellip; 3 more &hellip;</i>\n",
       "                </td>\n",
       "            </tr>\n",
       "        \n",
       "    \n",
       "    </tbody>\n",
       "</table>\n",
       "    \n",
       "\n",
       "    \n",
       "\n",
       "\n",
       "    \n",
       "\n",
       "    \n",
       "\n",
       "    \n",
       "\n",
       "    \n",
       "\n",
       "    \n",
       "\n",
       "    \n",
       "\n",
       "\n",
       "\n"
      ],
      "text/plain": [
       "<IPython.core.display.HTML object>"
      ]
     },
     "execution_count": 26,
     "metadata": {},
     "output_type": "execute_result"
    }
   ],
   "source": [
    "perm = PermutationImportance(rf_clf1, random_state=1).fit(X_val_exp1, y_val_exp1)\n",
    "eli5.show_weights(perm, feature_names = X_val_exp1.columns.tolist())\n"
   ]
  },
  {
   "cell_type": "code",
   "execution_count": 27,
   "id": "abbe5ecc-b741-4cdc-93e4-f965baa9207c",
   "metadata": {},
   "outputs": [
    {
     "data": {
      "text/html": [
       "\n",
       "    <style>\n",
       "    table.eli5-weights tr:hover {\n",
       "        filter: brightness(85%);\n",
       "    }\n",
       "</style>\n",
       "\n",
       "\n",
       "\n",
       "    \n",
       "\n",
       "    \n",
       "\n",
       "    \n",
       "\n",
       "    \n",
       "\n",
       "    \n",
       "\n",
       "    \n",
       "\n",
       "\n",
       "    \n",
       "\n",
       "    \n",
       "\n",
       "    \n",
       "\n",
       "    \n",
       "\n",
       "    \n",
       "\n",
       "    \n",
       "\n",
       "\n",
       "    \n",
       "\n",
       "    \n",
       "\n",
       "    \n",
       "\n",
       "    \n",
       "\n",
       "    \n",
       "        <table class=\"eli5-weights eli5-feature-importances\" style=\"border-collapse: collapse; border: none; margin-top: 0em; table-layout: auto;\">\n",
       "    <thead>\n",
       "    <tr style=\"border: none;\">\n",
       "        <th style=\"padding: 0 1em 0 0.5em; text-align: right; border: none;\">Weight</th>\n",
       "        <th style=\"padding: 0 0.5em 0 0.5em; text-align: left; border: none;\">Feature</th>\n",
       "    </tr>\n",
       "    </thead>\n",
       "    <tbody>\n",
       "    \n",
       "        <tr style=\"background-color: hsl(120, 100.00%, 80.00%); border: none;\">\n",
       "            <td style=\"padding: 0 1em 0 0.5em; text-align: right; border: none;\">\n",
       "                0.0905\n",
       "                \n",
       "                    &plusmn; 0.0183\n",
       "                \n",
       "            </td>\n",
       "            <td style=\"padding: 0 0.5em 0 0.5em; text-align: left; border: none;\">\n",
       "                total_day_charge\n",
       "            </td>\n",
       "        </tr>\n",
       "    \n",
       "        <tr style=\"background-color: hsl(120, 100.00%, 87.42%); border: none;\">\n",
       "            <td style=\"padding: 0 1em 0 0.5em; text-align: right; border: none;\">\n",
       "                0.0467\n",
       "                \n",
       "                    &plusmn; 0.0100\n",
       "                \n",
       "            </td>\n",
       "            <td style=\"padding: 0 0.5em 0 0.5em; text-align: left; border: none;\">\n",
       "                number_customer_service_calls\n",
       "            </td>\n",
       "        </tr>\n",
       "    \n",
       "        <tr style=\"background-color: hsl(120, 100.00%, 89.79%); border: none;\">\n",
       "            <td style=\"padding: 0 1em 0 0.5em; text-align: right; border: none;\">\n",
       "                0.0346\n",
       "                \n",
       "                    &plusmn; 0.0034\n",
       "                \n",
       "            </td>\n",
       "            <td style=\"padding: 0 0.5em 0 0.5em; text-align: left; border: none;\">\n",
       "                international_plan_encoded\n",
       "            </td>\n",
       "        </tr>\n",
       "    \n",
       "        <tr style=\"background-color: hsl(120, 100.00%, 92.79%); border: none;\">\n",
       "            <td style=\"padding: 0 1em 0 0.5em; text-align: right; border: none;\">\n",
       "                0.0211\n",
       "                \n",
       "                    &plusmn; 0.0131\n",
       "                \n",
       "            </td>\n",
       "            <td style=\"padding: 0 0.5em 0 0.5em; text-align: left; border: none;\">\n",
       "                total_eve_charge\n",
       "            </td>\n",
       "        </tr>\n",
       "    \n",
       "        <tr style=\"background-color: hsl(120, 100.00%, 93.20%); border: none;\">\n",
       "            <td style=\"padding: 0 1em 0 0.5em; text-align: right; border: none;\">\n",
       "                0.0194\n",
       "                \n",
       "                    &plusmn; 0.0097\n",
       "                \n",
       "            </td>\n",
       "            <td style=\"padding: 0 0.5em 0 0.5em; text-align: left; border: none;\">\n",
       "                voice_mail_plan_encoded\n",
       "            </td>\n",
       "        </tr>\n",
       "    \n",
       "        <tr style=\"background-color: hsl(120, 100.00%, 94.01%); border: none;\">\n",
       "            <td style=\"padding: 0 1em 0 0.5em; text-align: right; border: none;\">\n",
       "                0.0162\n",
       "                \n",
       "                    &plusmn; 0.0055\n",
       "                \n",
       "            </td>\n",
       "            <td style=\"padding: 0 0.5em 0 0.5em; text-align: left; border: none;\">\n",
       "                total_intl_calls\n",
       "            </td>\n",
       "        </tr>\n",
       "    \n",
       "        <tr style=\"background-color: hsl(120, 100.00%, 94.55%); border: none;\">\n",
       "            <td style=\"padding: 0 1em 0 0.5em; text-align: right; border: none;\">\n",
       "                0.0141\n",
       "                \n",
       "                    &plusmn; 0.0075\n",
       "                \n",
       "            </td>\n",
       "            <td style=\"padding: 0 0.5em 0 0.5em; text-align: left; border: none;\">\n",
       "                total_intl_charge\n",
       "            </td>\n",
       "        </tr>\n",
       "    \n",
       "        <tr style=\"background-color: hsl(120, 100.00%, 96.25%); border: none;\">\n",
       "            <td style=\"padding: 0 1em 0 0.5em; text-align: right; border: none;\">\n",
       "                0.0083\n",
       "                \n",
       "                    &plusmn; 0.0091\n",
       "                \n",
       "            </td>\n",
       "            <td style=\"padding: 0 0.5em 0 0.5em; text-align: left; border: none;\">\n",
       "                total_night_charge\n",
       "            </td>\n",
       "        </tr>\n",
       "    \n",
       "        <tr style=\"background-color: hsl(120, 100.00%, 97.34%); border: none;\">\n",
       "            <td style=\"padding: 0 1em 0 0.5em; text-align: right; border: none;\">\n",
       "                0.0051\n",
       "                \n",
       "                    &plusmn; 0.0055\n",
       "                \n",
       "            </td>\n",
       "            <td style=\"padding: 0 0.5em 0 0.5em; text-align: left; border: none;\">\n",
       "                state_2\n",
       "            </td>\n",
       "        </tr>\n",
       "    \n",
       "        <tr style=\"background-color: hsl(120, 100.00%, 97.55%); border: none;\">\n",
       "            <td style=\"padding: 0 1em 0 0.5em; text-align: right; border: none;\">\n",
       "                0.0045\n",
       "                \n",
       "                    &plusmn; 0.0032\n",
       "                \n",
       "            </td>\n",
       "            <td style=\"padding: 0 0.5em 0 0.5em; text-align: left; border: none;\">\n",
       "                state_0\n",
       "            </td>\n",
       "        </tr>\n",
       "    \n",
       "        <tr style=\"background-color: hsl(120, 100.00%, 98.15%); border: none;\">\n",
       "            <td style=\"padding: 0 1em 0 0.5em; text-align: right; border: none;\">\n",
       "                0.0030\n",
       "                \n",
       "                    &plusmn; 0.0036\n",
       "                \n",
       "            </td>\n",
       "            <td style=\"padding: 0 0.5em 0 0.5em; text-align: left; border: none;\">\n",
       "                total_eve_calls\n",
       "            </td>\n",
       "        </tr>\n",
       "    \n",
       "        <tr style=\"background-color: hsl(120, 100.00%, 99.30%); border: none;\">\n",
       "            <td style=\"padding: 0 1em 0 0.5em; text-align: right; border: none;\">\n",
       "                0.0008\n",
       "                \n",
       "                    &plusmn; 0.0048\n",
       "                \n",
       "            </td>\n",
       "            <td style=\"padding: 0 0.5em 0 0.5em; text-align: left; border: none;\">\n",
       "                account_length\n",
       "            </td>\n",
       "        </tr>\n",
       "    \n",
       "        <tr style=\"background-color: hsl(0, 100.00%, 100.00%); border: none;\">\n",
       "            <td style=\"padding: 0 1em 0 0.5em; text-align: right; border: none;\">\n",
       "                -0.0000\n",
       "                \n",
       "                    &plusmn; 0.0063\n",
       "                \n",
       "            </td>\n",
       "            <td style=\"padding: 0 0.5em 0 0.5em; text-align: left; border: none;\">\n",
       "                state_5\n",
       "            </td>\n",
       "        </tr>\n",
       "    \n",
       "        <tr style=\"background-color: hsl(0, 100.00%, 99.43%); border: none;\">\n",
       "            <td style=\"padding: 0 1em 0 0.5em; text-align: right; border: none;\">\n",
       "                -0.0006\n",
       "                \n",
       "                    &plusmn; 0.0050\n",
       "                \n",
       "            </td>\n",
       "            <td style=\"padding: 0 0.5em 0 0.5em; text-align: left; border: none;\">\n",
       "                number_vmail_messages\n",
       "            </td>\n",
       "        </tr>\n",
       "    \n",
       "        <tr style=\"background-color: hsl(0, 100.00%, 99.18%); border: none;\">\n",
       "            <td style=\"padding: 0 1em 0 0.5em; text-align: right; border: none;\">\n",
       "                -0.0009\n",
       "                \n",
       "                    &plusmn; 0.0036\n",
       "                \n",
       "            </td>\n",
       "            <td style=\"padding: 0 0.5em 0 0.5em; text-align: left; border: none;\">\n",
       "                state_3\n",
       "            </td>\n",
       "        </tr>\n",
       "    \n",
       "        <tr style=\"background-color: hsl(0, 100.00%, 98.96%); border: none;\">\n",
       "            <td style=\"padding: 0 1em 0 0.5em; text-align: right; border: none;\">\n",
       "                -0.0013\n",
       "                \n",
       "                    &plusmn; 0.0048\n",
       "                \n",
       "            </td>\n",
       "            <td style=\"padding: 0 0.5em 0 0.5em; text-align: left; border: none;\">\n",
       "                total_day_calls\n",
       "            </td>\n",
       "        </tr>\n",
       "    \n",
       "        <tr style=\"background-color: hsl(0, 100.00%, 98.77%); border: none;\">\n",
       "            <td style=\"padding: 0 1em 0 0.5em; text-align: right; border: none;\">\n",
       "                -0.0017\n",
       "                \n",
       "                    &plusmn; 0.0030\n",
       "                \n",
       "            </td>\n",
       "            <td style=\"padding: 0 0.5em 0 0.5em; text-align: left; border: none;\">\n",
       "                total_night_calls\n",
       "            </td>\n",
       "        </tr>\n",
       "    \n",
       "        <tr style=\"background-color: hsl(0, 100.00%, 98.67%); border: none;\">\n",
       "            <td style=\"padding: 0 1em 0 0.5em; text-align: right; border: none;\">\n",
       "                -0.0019\n",
       "                \n",
       "                    &plusmn; 0.0038\n",
       "                \n",
       "            </td>\n",
       "            <td style=\"padding: 0 0.5em 0 0.5em; text-align: left; border: none;\">\n",
       "                state_4\n",
       "            </td>\n",
       "        </tr>\n",
       "    \n",
       "        <tr style=\"background-color: hsl(0, 100.00%, 98.15%); border: none;\">\n",
       "            <td style=\"padding: 0 1em 0 0.5em; text-align: right; border: none;\">\n",
       "                -0.0030\n",
       "                \n",
       "                    &plusmn; 0.0052\n",
       "                \n",
       "            </td>\n",
       "            <td style=\"padding: 0 0.5em 0 0.5em; text-align: left; border: none;\">\n",
       "                state_1\n",
       "            </td>\n",
       "        </tr>\n",
       "    \n",
       "    \n",
       "    </tbody>\n",
       "</table>\n",
       "    \n",
       "\n",
       "    \n",
       "\n",
       "\n",
       "    \n",
       "\n",
       "    \n",
       "\n",
       "    \n",
       "\n",
       "    \n",
       "\n",
       "    \n",
       "\n",
       "    \n",
       "\n",
       "\n",
       "\n"
      ],
      "text/plain": [
       "<IPython.core.display.HTML object>"
      ]
     },
     "execution_count": 27,
     "metadata": {},
     "output_type": "execute_result"
    }
   ],
   "source": [
    "perm = PermutationImportance(rf_clf2, random_state=1).fit(X_val_exp2, y_val_exp2)\n",
    "eli5.show_weights(perm, feature_names = X_val_exp2.columns.tolist())"
   ]
  },
  {
   "cell_type": "markdown",
   "id": "64271937-a830-4d1e-842a-99766fb76baf",
   "metadata": {},
   "source": [
    "We could also see that the engineered features got higher weights in the model"
   ]
  },
  {
   "cell_type": "markdown",
   "id": "4c46eff6-c4dc-4a67-aab7-e7b5aabcaf32",
   "metadata": {},
   "source": [
    "## Deep Learning <a class=\"anchor\" id=\"deep_learning\"></a>"
   ]
  },
  {
   "cell_type": "markdown",
   "id": "69c3abcd-b2a8-4c39-b826-e0ada1d06c77",
   "metadata": {},
   "source": [
    "Giving a try to test a Neural Network.\n",
    "\n",
    "Altough Deep Learning is more intelligent than Machine Learining, it needs huge dataset to be able to perform better than ML "
   ]
  },
  {
   "cell_type": "code",
   "execution_count": 28,
   "id": "8170aef5-1c9f-4c72-9ed2-64068fa25d79",
   "metadata": {},
   "outputs": [],
   "source": [
    "from tensorflow import keras\n",
    "from tensorflow.keras import layers\n",
    "from tensorflow.keras import callbacks"
   ]
  },
  {
   "cell_type": "code",
   "execution_count": 29,
   "id": "5949e640-98d6-428d-b1ce-8f472cb3b7be",
   "metadata": {},
   "outputs": [],
   "source": [
    "early_stopping = callbacks.EarlyStopping(patience = 5 ,min_delta = 0.001, restore_best_weights =True )\n",
    "input_shape = [X_exp1.shape[1]]"
   ]
  },
  {
   "cell_type": "code",
   "execution_count": 30,
   "id": "b93645b7-6f1e-434b-bd87-1389669e8642",
   "metadata": {},
   "outputs": [
    {
     "name": "stdout",
     "output_type": "stream",
     "text": [
      "Epoch 1/50\n",
      "84/84 [==============================] - 1s 4ms/step - loss: 0.6451 - accuracy: 0.6264 - val_loss: 0.5215 - val_accuracy: 0.7620\n",
      "Epoch 2/50\n",
      "84/84 [==============================] - 0s 2ms/step - loss: 0.4771 - accuracy: 0.7888 - val_loss: 0.4184 - val_accuracy: 0.8166\n",
      "Epoch 3/50\n",
      "84/84 [==============================] - 0s 2ms/step - loss: 0.4024 - accuracy: 0.8215 - val_loss: 0.3843 - val_accuracy: 0.8278\n",
      "Epoch 4/50\n",
      "84/84 [==============================] - 0s 2ms/step - loss: 0.3606 - accuracy: 0.8413 - val_loss: 0.3710 - val_accuracy: 0.8250\n",
      "Epoch 5/50\n",
      "84/84 [==============================] - 0s 2ms/step - loss: 0.3349 - accuracy: 0.8528 - val_loss: 0.3374 - val_accuracy: 0.8523\n",
      "Epoch 6/50\n",
      "84/84 [==============================] - 0s 2ms/step - loss: 0.3195 - accuracy: 0.8603 - val_loss: 0.3168 - val_accuracy: 0.8664\n",
      "Epoch 7/50\n",
      "84/84 [==============================] - 0s 2ms/step - loss: 0.3077 - accuracy: 0.8672 - val_loss: 0.3138 - val_accuracy: 0.8664\n",
      "Epoch 8/50\n",
      "84/84 [==============================] - 0s 2ms/step - loss: 0.2978 - accuracy: 0.8716 - val_loss: 0.3224 - val_accuracy: 0.8579\n",
      "Epoch 9/50\n",
      "84/84 [==============================] - 0s 2ms/step - loss: 0.2885 - accuracy: 0.8742 - val_loss: 0.3095 - val_accuracy: 0.8683\n",
      "Epoch 10/50\n",
      "84/84 [==============================] - 0s 2ms/step - loss: 0.2808 - accuracy: 0.8768 - val_loss: 0.2902 - val_accuracy: 0.8815\n",
      "Epoch 11/50\n",
      "84/84 [==============================] - 0s 2ms/step - loss: 0.2722 - accuracy: 0.8821 - val_loss: 0.3014 - val_accuracy: 0.8786\n",
      "Epoch 12/50\n",
      "84/84 [==============================] - 0s 2ms/step - loss: 0.2655 - accuracy: 0.8840 - val_loss: 0.2957 - val_accuracy: 0.8796\n",
      "Epoch 13/50\n",
      "84/84 [==============================] - 0s 2ms/step - loss: 0.2579 - accuracy: 0.8896 - val_loss: 0.2914 - val_accuracy: 0.8786\n",
      "Epoch 14/50\n",
      "84/84 [==============================] - 0s 2ms/step - loss: 0.2518 - accuracy: 0.8923 - val_loss: 0.3026 - val_accuracy: 0.8758\n",
      "Epoch 15/50\n",
      "84/84 [==============================] - 0s 2ms/step - loss: 0.2432 - accuracy: 0.8973 - val_loss: 0.2843 - val_accuracy: 0.8796\n",
      "Epoch 16/50\n",
      "84/84 [==============================] - 0s 2ms/step - loss: 0.2376 - accuracy: 0.8998 - val_loss: 0.2824 - val_accuracy: 0.8796\n",
      "Epoch 17/50\n",
      "84/84 [==============================] - 0s 2ms/step - loss: 0.2341 - accuracy: 0.9007 - val_loss: 0.2806 - val_accuracy: 0.8843\n",
      "Epoch 18/50\n",
      "84/84 [==============================] - 0s 2ms/step - loss: 0.2248 - accuracy: 0.9071 - val_loss: 0.2739 - val_accuracy: 0.8843\n",
      "Epoch 19/50\n",
      "84/84 [==============================] - 0s 2ms/step - loss: 0.2200 - accuracy: 0.9049 - val_loss: 0.2596 - val_accuracy: 0.8965\n",
      "Epoch 20/50\n",
      "84/84 [==============================] - 0s 2ms/step - loss: 0.2150 - accuracy: 0.9088 - val_loss: 0.2713 - val_accuracy: 0.8890\n",
      "Epoch 21/50\n",
      "84/84 [==============================] - 0s 2ms/step - loss: 0.2096 - accuracy: 0.9109 - val_loss: 0.2898 - val_accuracy: 0.8777\n",
      "Epoch 22/50\n",
      "84/84 [==============================] - 0s 2ms/step - loss: 0.2052 - accuracy: 0.9109 - val_loss: 0.2672 - val_accuracy: 0.8946\n",
      "Epoch 23/50\n",
      "84/84 [==============================] - 0s 2ms/step - loss: 0.2012 - accuracy: 0.9148 - val_loss: 0.2624 - val_accuracy: 0.8928\n",
      "Epoch 24/50\n",
      "84/84 [==============================] - 0s 2ms/step - loss: 0.1957 - accuracy: 0.9161 - val_loss: 0.2662 - val_accuracy: 0.8937\n",
      "Minimum Validation Loss: 0.2596\n"
     ]
    },
    {
     "data": {
      "image/png": "[encoded data removed]",
      "text/plain": [
       "<Figure size 360x360 with 1 Axes>"
      ]
     },
     "metadata": {
      "needs_background": "light"
     },
     "output_type": "display_data"
    }
   ],
   "source": [
    "model = keras.Sequential([\n",
    "    layers.Dense(32, activation='relu', input_shape=input_shape),\n",
    "    layers.Dense(16, activation='relu'),    \n",
    "    layers.Dense(1 , activation='sigmoid' )\n",
    "    \n",
    "])\n",
    "model.compile(\n",
    "    optimizer='adam',\n",
    "   loss='binary_crossentropy',\n",
    "    metrics=['accuracy']\n",
    ")\n",
    "history = model.fit(\n",
    "    X_exp1, y_exp1,\n",
    "    validation_data=(X_val_exp1, y_val_exp1),\n",
    "    batch_size=64,\n",
    "    epochs=50,\n",
    "    callbacks=[early_stopping] # to avoid overfitting\n",
    ")\n",
    "history_df = pd.DataFrame(history.history)\n",
    "history_df.loc[:, ['loss', 'val_loss']].plot()\n",
    "print(\"Minimum Validation Loss: {:0.4f}\".format(history_df['val_loss'].min()));"
   ]
  },
  {
   "cell_type": "code",
   "execution_count": 31,
   "id": "ea39967f-7126-40a0-ad1a-97c3f55edaaf",
   "metadata": {},
   "outputs": [],
   "source": [
    "prdsss = model.predict(X_val_exp1)"
   ]
  },
  {
   "cell_type": "code",
   "execution_count": 32,
   "id": "41f6991c-6489-4203-87cb-1037c4b9d52f",
   "metadata": {},
   "outputs": [],
   "source": [
    "prdsss = [1 * (x[0]>=0.5) for x in prdsss]"
   ]
  },
  {
   "cell_type": "code",
   "execution_count": 33,
   "id": "764c62a7-0133-48c2-94e5-537992120525",
   "metadata": {},
   "outputs": [
    {
     "name": "stdout",
     "output_type": "stream",
     "text": [
      "              precision    recall  f1-score   support\n",
      "\n",
      "           0       0.93      0.95      0.94       902\n",
      "           1       0.69      0.58      0.63       161\n",
      "\n",
      "    accuracy                           0.90      1063\n",
      "   macro avg       0.81      0.77      0.79      1063\n",
      "weighted avg       0.89      0.90      0.89      1063\n",
      "\n"
     ]
    },
    {
     "data": {
      "image/png": "[encoded data removed]",
      "text/plain": [
       "<Figure size 360x360 with 1 Axes>"
      ]
     },
     "metadata": {
      "needs_background": "light"
     },
     "output_type": "display_data"
    }
   ],
   "source": [
    "reporting(prdsss, y_val_exp1)"
   ]
  },
  {
   "cell_type": "markdown",
   "id": "dd24297e-7a22-4317-b785-441002162677",
   "metadata": {},
   "source": [
    "## Submission <a class=\"anchor\" id=\"submission\"></a>"
   ]
  },
  {
   "cell_type": "markdown",
   "id": "ad530616-0f33-4d7a-bbf7-ff8e411bf04f",
   "metadata": {},
   "source": [
    "Based on Expirement 1, We can build a new Random forest classifier on the whole exist dataset (without splitting)\n",
    "\n",
    "Then follow kaggle instructions to submit it"
   ]
  },
  {
   "cell_type": "code",
   "execution_count": 34,
   "id": "fec326af-378e-44ff-af32-9731a92a70db",
   "metadata": {},
   "outputs": [],
   "source": [
    "total_train =  pd.read_csv('datasets/train.csv')\n",
    "total_test= pd.read_csv('datasets/test.csv')"
   ]
  },
  {
   "cell_type": "code",
   "execution_count": 35,
   "id": "ecc73c85-3b74-44ba-85e8-eb2de44718b1",
   "metadata": {},
   "outputs": [],
   "source": [
    "with_features_engineered = True\n",
    "with_target = False"
   ]
  },
  {
   "cell_type": "code",
   "execution_count": 36,
   "id": "339a17d8-33b2-4631-b1c9-827bdadf480d",
   "metadata": {},
   "outputs": [
    {
     "name": "stdout",
     "output_type": "stream",
     "text": [
      "When chrun =  no  the  number of outilers in  total_night_minutes :  32\n",
      "When chrun =  no  the  number of outilers in  total_day_minutes :  17\n",
      "When chrun =  no  the  number of outilers in  total_eve_minutes :  32\n",
      "percentage of outliers: 2.190580503833516\n",
      "\n",
      "\n",
      "When chrun =  no  the  number of outilers in  total_night_charge :  4\n",
      "When chrun =  no  the  number of outilers in  total_day_charge :  0\n",
      "When chrun =  no  the  number of outilers in  total_eve_charge :  5\n",
      "percentage of outliers: 0.251959686450168\n",
      "\n",
      "\n",
      "normalized cols:  ['number_customer_service_calls', 'number_vmail_messages']\n",
      "standarized cols:  ['account_length' 'intl_charge_per_minutes' 'total_charge'\n",
      " 'total_day_calls' 'total_day_charge' 'total_day_minutes'\n",
      " 'total_eve_calls' 'total_eve_charge' 'total_eve_minutes'\n",
      " 'total_intl_calls' 'total_intl_charge' 'total_intl_minutes'\n",
      " 'total_minutes' 'total_night_calls' 'total_night_charge'\n",
      " 'total_night_minutes' 'voice_international_subscriber_encoded']\n",
      "Tatget classes counts after oversampling:\n",
      " 0    3563\n",
      "1    3563\n",
      "Name: churn_encoded, dtype: int64\n"
     ]
    },
    {
     "name": "stderr",
     "output_type": "stream",
     "text": [
      "C:\\Users\\RC\\Desktop\\Halan\\utils\\preprocessing.py:20: SettingWithCopyWarning: \n",
      "A value is trying to be set on a copy of a slice from a DataFrame\n",
      "\n",
      "See the caveats in the documentation: https://pandas.pydata.org/pandas-docs/stable/user_guide/indexing.html#returning-a-view-versus-a-copy\n",
      "  df['voice_international_subscriber_encoded'][voice_internationa_plan.index] =1\n"
     ]
    }
   ],
   "source": [
    "RF,X,y = train_pipeline(total_train , with_features_engineered)"
   ]
  },
  {
   "cell_type": "code",
   "execution_count": 37,
   "id": "2178306c-2be6-4cba-9003-e5b47c635586",
   "metadata": {},
   "outputs": [],
   "source": [
    "ids = total_test['id']\n",
    "total_test.drop('id' , axis=1 ,inplace =True)"
   ]
  },
  {
   "cell_type": "code",
   "execution_count": 38,
   "id": "3638891d-10dc-43ab-a967-15fe97e20f1c",
   "metadata": {},
   "outputs": [
    {
     "name": "stdout",
     "output_type": "stream",
     "text": [
      "normalized cols:  ['number_customer_service_calls', 'number_vmail_messages']\n",
      "standarized cols:  ['account_length' 'intl_charge_per_minutes' 'total_charge'\n",
      " 'total_day_calls' 'total_day_charge' 'total_day_minutes'\n",
      " 'total_eve_calls' 'total_eve_charge' 'total_eve_minutes'\n",
      " 'total_intl_calls' 'total_intl_charge' 'total_intl_minutes'\n",
      " 'total_minutes' 'total_night_calls' 'total_night_charge'\n",
      " 'total_night_minutes' 'voice_international_subscriber_encoded']\n"
     ]
    },
    {
     "name": "stderr",
     "output_type": "stream",
     "text": [
      "C:\\Users\\RC\\Desktop\\Halan\\utils\\preprocessing.py:20: SettingWithCopyWarning: \n",
      "A value is trying to be set on a copy of a slice from a DataFrame\n",
      "\n",
      "See the caveats in the documentation: https://pandas.pydata.org/pandas-docs/stable/user_guide/indexing.html#returning-a-view-versus-a-copy\n",
      "  df['voice_international_subscriber_encoded'][voice_internationa_plan.index] =1\n"
     ]
    }
   ],
   "source": [
    "X_val= test_pipeline(total_test , with_features_engineered, with_target) "
   ]
  },
  {
   "cell_type": "code",
   "execution_count": 39,
   "id": "d93e19f5-57db-4e80-b345-eb730f9fcf98",
   "metadata": {},
   "outputs": [],
   "source": [
    "predictions= RF.predict(X_val)"
   ]
  },
  {
   "cell_type": "code",
   "execution_count": 40,
   "id": "6940c677-225c-41dc-bafd-3d476fd7cd9e",
   "metadata": {},
   "outputs": [],
   "source": [
    "submision  = pd.DataFrame(data = {'id' : [] , 'churn' : [] }) \n",
    "submision['id'] =ids\n",
    "submision['churn'] =predictions\n",
    "submision['churn'] = submision['churn'].map({0:'no' , 1:'yes'})"
   ]
  },
  {
   "cell_type": "code",
   "execution_count": 41,
   "id": "6053a6b6-1ef2-42b2-b9c8-81e6d7c9ce2e",
   "metadata": {},
   "outputs": [],
   "source": [
    "submision.to_csv('datasets/submission.csv' , index=False)"
   ]
  },
  {
   "cell_type": "code",
   "execution_count": 42,
   "id": "8e89a1e7-f35b-4d0e-b7ec-f25d9882b631",
   "metadata": {},
   "outputs": [
    {
     "data": {
      "text/plain": [
       "no     652\n",
       "yes     98\n",
       "Name: churn, dtype: int64"
      ]
     },
     "execution_count": 42,
     "metadata": {},
     "output_type": "execute_result"
    }
   ],
   "source": [
    "submision['churn'].value_counts()"
   ]
  },
  {
   "cell_type": "markdown",
   "id": "095b3f04-1b88-42bb-9720-9f7a9de6ccee",
   "metadata": {},
   "source": [
    "## Kaggle Results  <a class=\"anchor\" id=\"kaggle\"></a>"
   ]
  },
  {
   "cell_type": "code",
   "execution_count": 3,
   "id": "14981d97-6f4f-40e0-9cd6-691cf255c748",
   "metadata": {},
   "outputs": [
    {
     "data": {
      "image/jpeg": "[encoded data removed]",
      "text/plain": [
       "<IPython.core.display.Image object>"
      ]
     },
     "execution_count": 3,
     "metadata": {},
     "output_type": "execute_result"
    }
   ],
   "source": [
    "from IPython import display\n",
    "display.Image('material/kaggle results.jpeg')"
   ]
  },
  {
   "cell_type": "markdown",
   "id": "1156e1ee-b91d-40d8-8e07-619a10580236",
   "metadata": {},
   "source": [
    "I think that the model could achieve the 99% accuracy if I used the gridsearch to optimize the random forest parms "
   ]
  },
  {
   "cell_type": "code",
   "execution_count": null,
   "id": "2bbf730e-2863-47d5-b727-842d39b9f2ce",
   "metadata": {},
   "outputs": [],
   "source": []
  }
 ],
 "metadata": {
  "kernelspec": {
   "display_name": "Python 3",
   "language": "python",
   "name": "python3"
  },
  "language_info": {
   "codemirror_mode": {
    "name": "ipython",
    "version": 3
   },
   "file_extension": ".py",
   "mimetype": "text/x-python",
   "name": "python",
   "nbconvert_exporter": "python",
   "pygments_lexer": "ipython3",
   "version": "3.8.11"
  }
 },
 "nbformat": 4,
 "nbformat_minor": 5
}
