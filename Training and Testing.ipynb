{
 "cells": [
  {
   "cell_type": "markdown",
   "id": "06df924f-8106-4a52-aaf0-75bb28d2498b",
   "metadata": {},
   "source": [
    "<h1><center>Customer Churn Prediction</center></h1>\n",
    "<h3><center>Training and Testing</center></h3>\n",
    "\n"
   ]
  },
  {
   "cell_type": "markdown",
   "id": "6ab114db-5157-45fd-a750-73bbdc2b7afe",
   "metadata": {},
   "source": [
    "In this notebook, I made data 2 ML based-experiments to prove that the engineered features achieve better accuracy. In addition to reporting different acurracy metrics\n",
    "\n",
    "<div id=\"toc_container\">\n",
    "<p class=\"toc_title\">Table Of Contents</p>\n",
    "<ul class=\"toc_list\">\n",
    "  <li><a href=\"#ex_1\">1. 1st Experiment </a></li>\n",
    "\n",
    "<li><a href=\"#ex_2\">2. 2nd Experiment</a></li> \n",
    "\n",
    "<li><a href=\"#results\">3. Result Analysis </a></li> \n",
    "    \n",
    "<li><a href=\"#deep_learning\">3. Deep Learning (Optional)</a></li> \n",
    "\n",
    "    \n",
    "</ul>\n",
    "</div>\n"
   ]
  },
  {
   "cell_type": "code",
   "execution_count": 1,
   "id": "b700e686-df2d-4938-ab30-540ea99febbf",
   "metadata": {},
   "outputs": [],
   "source": [
    "# importing the needed Packages\n",
    "import pandas as pd\n",
    "from sklearn.metrics import accuracy_score,classification_report ,confusion_matrix # required Accuracy metirics  mainly(Accuracy score,  F1 -secore)\n",
    "from utils.preprocessing import feature_engineering, remove_outliers,encoder ,features_selection ,features_scaling ,KNN_oversample\n",
    "from sklearn.ensemble import RandomForestClassifier\n",
    "import eli5\n",
    "from eli5.sklearn import PermutationImportance\n",
    "import matplotlib.pyplot as plt\n"
   ]
  },
  {
   "cell_type": "code",
   "execution_count": 2,
   "id": "452073b8-cb94-4bfd-87f2-e0bba738a71a",
   "metadata": {},
   "outputs": [],
   "source": [
    "train_df = pd.read_csv('datasets/train_set.csv')\n",
    "test_df = pd.read_csv('datasets/test_set.csv')"
   ]
  },
  {
   "cell_type": "markdown",
   "id": "2cccb699-31b4-46cd-ba44-2e465c79084a",
   "metadata": {},
   "source": [
    "In this case, it's better to use **Machine Learning** model than **Deep Learning** because our dataset isn't big.\n",
    "\n",
    "That why I went for data engineering techinques to introduce better and meaningful featuers\n",
    "\n",
    "\n"
   ]
  },
  {
   "cell_type": "markdown",
   "id": "10ffba6e-186e-4e9c-acd4-4dbccb41b5d5",
   "metadata": {},
   "source": [
    "Too many Classifiers can be used in this case, but I chose ,**Ensemble Learning**, Random forest classifier"
   ]
  },
  {
   "cell_type": "markdown",
   "id": "a0457f2a-280f-4930-89f6-c07b46276150",
   "metadata": {},
   "source": [
    "Define the train and test pipelines"
   ]
  },
  {
   "cell_type": "code",
   "execution_count": 3,
   "id": "046f03e3-59d2-4ca9-8e92-8a63a0467a50",
   "metadata": {},
   "outputs": [],
   "source": [
    "def train_pipeline(df , with_features):\n",
    "    result  = df.copy()\n",
    "    result,idx_removed = remove_outliers(result ,['minutes' , 'charge'] , 'no')\n",
    "    result = feature_engineering(result ,with_features ,with_features,with_features)\n",
    "    result =  features_scaling(result)\n",
    "    result,cols_encoded = encoder(result)\n",
    "    result = features_selection(result, with_features)\n",
    "    X, y = KNN_oversample(result)\n",
    "    rf_clf = RandomForestClassifier(random_state=6 )\n",
    "    rf_clf.fit(X, y)\n",
    "    return rf_clf , X,y"
   ]
  },
  {
   "cell_type": "code",
   "execution_count": 4,
   "id": "8a9f3bac-d5fa-4925-8a2e-a5e66ea92495",
   "metadata": {},
   "outputs": [],
   "source": [
    "def test_pipeline(df , with_features):\n",
    "    result  = df.copy()\n",
    "    result = feature_engineering(result ,with_features ,with_features,with_features)\n",
    "    result =  features_scaling(result)\n",
    "    result,cols_encoded = encoder(result)\n",
    "    result = features_selection(result, with_features)\n",
    "    X_val,y_val = result.drop(['churn_encoded'] , axis =1) , result['churn_encoded']\n",
    "    return X_val,y_val"
   ]
  },
  {
   "cell_type": "markdown",
   "id": "2f11b5c4-b438-4336-8983-1ad030fd90a2",
   "metadata": {},
   "source": [
    "In the testing phase, We can't perform outliers removal and oversampling"
   ]
  },
  {
   "cell_type": "markdown",
   "id": "c8f22790-1527-48af-a90b-04e6af5948af",
   "metadata": {},
   "source": [
    "## 1st Expirment  <a class=\"anchor\" id=\"ex_1\"></a>"
   ]
  },
  {
   "cell_type": "markdown",
   "id": "c780cf15-e438-4888-b3b5-a33ae2b38f0c",
   "metadata": {},
   "source": [
    "In this Experiment, I will train and test the Random Forest Classifier on the dataset **with the engineered featuers**"
   ]
  },
  {
   "cell_type": "code",
   "execution_count": 15,
   "id": "ae61fe93-b2ea-4f43-900e-d03fa64a3bcd",
   "metadata": {},
   "outputs": [],
   "source": [
    "with_features_engineered = True"
   ]
  },
  {
   "cell_type": "code",
   "execution_count": 16,
   "id": "33f87a58-b92e-4794-b352-33033d14641b",
   "metadata": {},
   "outputs": [
    {
     "name": "stdout",
     "output_type": "stream",
     "text": [
      "When chrun =  no  the  number of outilers in  total_night_minutes :  25\n",
      "When chrun =  no  the  number of outilers in  total_day_minutes :  16\n",
      "When chrun =  no  the  number of outilers in  total_eve_minutes :  23\n",
      "percentage of outliers: 2.3110785033015406\n",
      "\n",
      "\n",
      "When chrun =  no  the  number of outilers in  total_night_charge :  2\n",
      "When chrun =  no  the  number of outilers in  total_day_charge :  1\n",
      "When chrun =  no  the  number of outilers in  total_eve_charge :  1\n",
      "percentage of outliers: 0.1502065339842283\n",
      "\n",
      "\n",
      "Tatget classes counts after oversampling:\n",
      " 0    2659\n",
      "1    2659\n",
      "Name: churn_encoded, dtype: int64\n"
     ]
    }
   ],
   "source": [
    "rf_clf1 , X_exp1,y_exp1 = train_pipeline(train_df , with_features_engineered)"
   ]
  },
  {
   "cell_type": "code",
   "execution_count": 17,
   "id": "623f509b-e127-43c4-8aca-816d2f6e9c46",
   "metadata": {},
   "outputs": [],
   "source": [
    "X_val_exp1,y_val_exp1 = test_pipeline(test_df , with_features_engineered)"
   ]
  },
  {
   "cell_type": "code",
   "execution_count": 18,
   "id": "3a1c42ac-113f-4fee-9420-00fe0a992f6b",
   "metadata": {},
   "outputs": [],
   "source": [
    "exp1_preds= rf_clf1.predict(X_val_exp1)"
   ]
  },
  {
   "cell_type": "code",
   "execution_count": null,
   "id": "7a059a45-ff1a-495c-8b31-42a14816a4b2",
   "metadata": {},
   "outputs": [],
   "source": []
  },
  {
   "cell_type": "code",
   "execution_count": null,
   "id": "6685000b-f68a-4bae-8a7a-15f2e7175b8a",
   "metadata": {},
   "outputs": [],
   "source": []
  },
  {
   "cell_type": "markdown",
   "id": "c90d0a31-4ee0-454c-833d-3a2bfd9c8bcc",
   "metadata": {},
   "source": [
    "## 2nd Expirment  <a class=\"anchor\" id=\"ex_2\"></a>"
   ]
  },
  {
   "cell_type": "markdown",
   "id": "1240743e-1a50-405c-af72-eaa005494fd1",
   "metadata": {},
   "source": [
    "In this Experiment, I will train and test the Random Forest Classifier on the dataset **without the engineered featurese**"
   ]
  },
  {
   "cell_type": "code",
   "execution_count": 29,
   "id": "c52feaec-2174-4023-81d5-82ad477fb7f1",
   "metadata": {},
   "outputs": [],
   "source": [
    "with_features_engineered = False"
   ]
  },
  {
   "cell_type": "code",
   "execution_count": 30,
   "id": "a1177f4b-ba8f-477e-ba23-323cee6d73b2",
   "metadata": {},
   "outputs": [
    {
     "name": "stdout",
     "output_type": "stream",
     "text": [
      "When chrun =  no  the  number of outilers in  total_night_minutes :  25\n",
      "When chrun =  no  the  number of outilers in  total_day_minutes :  16\n",
      "When chrun =  no  the  number of outilers in  total_eve_minutes :  23\n",
      "percentage of outliers: 2.3110785033015406\n",
      "\n",
      "\n",
      "When chrun =  no  the  number of outilers in  total_night_charge :  2\n",
      "When chrun =  no  the  number of outilers in  total_day_charge :  1\n",
      "When chrun =  no  the  number of outilers in  total_eve_charge :  1\n",
      "percentage of outliers: 0.1502065339842283\n",
      "\n",
      "\n",
      "Tatget classes counts after oversampling:\n",
      " 0    2659\n",
      "1    2659\n",
      "Name: churn_encoded, dtype: int64\n"
     ]
    }
   ],
   "source": [
    "rf_clf2 , X_exp2,y_exp2 = train_pipeline(train_df , with_features_engineered)"
   ]
  },
  {
   "cell_type": "code",
   "execution_count": 31,
   "id": "e59644f5-3b26-4991-b0a8-f1691e9b3161",
   "metadata": {},
   "outputs": [],
   "source": [
    "X_val_exp2,y_val_exp2 = test_pipeline(test_df , with_features_engineered)"
   ]
  },
  {
   "cell_type": "code",
   "execution_count": 32,
   "id": "88cff56e-bc33-4455-8dfd-7cea51502a95",
   "metadata": {},
   "outputs": [],
   "source": [
    "exp2_preds= rf_clf2.predict(X_val_exp2)"
   ]
  },
  {
   "cell_type": "markdown",
   "id": "417fd76a-1e7d-4be5-98cf-df51b81c9463",
   "metadata": {},
   "source": [
    "## Result Analysis <a class=\"anchor\" id=\"results\"></a>"
   ]
  },
  {
   "cell_type": "code",
   "execution_count": 23,
   "id": "7d918a6d-17e6-4402-989f-935aae90986b",
   "metadata": {},
   "outputs": [],
   "source": [
    "def reporting(exp_preds, y_val):\n",
    "    print(classification_report(exp_preds, y_val))\n",
    "    title = \"Experiment acuracy is: \" + str(accuracy_score(exp_preds, y_val)* 100)\n",
    "    \n",
    "    C_M = confusion_matrix(exp_preds, y_val)\n",
    "    plt.rc('figure', figsize=[5,5])\n",
    "    plt.matshow(C_M,cmap=\"Blues\")\n",
    "    plt.title(title)\n",
    "    for i in range(0,C_M.shape[0]):\n",
    "        for j in range(0,C_M.shape[1]):\n",
    "            plt.annotate(C_M[i,j],(j,i))\n",
    "    "
   ]
  },
  {
   "cell_type": "markdown",
   "id": "86919eb7-1b7c-4e02-a65d-9be9ee4de55a",
   "metadata": {},
   "source": [
    "Expirment 1 Results"
   ]
  },
  {
   "cell_type": "code",
   "execution_count": 24,
   "id": "2140ad54-cfc6-4667-946c-4d7ddef8f2c7",
   "metadata": {},
   "outputs": [
    {
     "name": "stdout",
     "output_type": "stream",
     "text": [
      "              precision    recall  f1-score   support\n",
      "\n",
      "           0       0.98      0.97      0.98       939\n",
      "           1       0.80      0.88      0.84       124\n",
      "\n",
      "    accuracy                           0.96      1063\n",
      "   macro avg       0.89      0.92      0.91      1063\n",
      "weighted avg       0.96      0.96      0.96      1063\n",
      "\n"
     ]
    },
    {
     "data": {
      "image/png": "[encoded data removed]",
      "text/plain": [
       "<Figure size 360x360 with 1 Axes>"
      ]
     },
     "metadata": {
      "needs_background": "light"
     },
     "output_type": "display_data"
    }
   ],
   "source": [
    "reporting(exp1_preds, y_val_exp1)"
   ]
  },
  {
   "cell_type": "markdown",
   "id": "7690b3f3-793b-4b91-8ada-1108018ee389",
   "metadata": {},
   "source": [
    "However expirment 2 Results"
   ]
  },
  {
   "cell_type": "code",
   "execution_count": 33,
   "id": "c06185be-d454-4280-924d-0509033e5552",
   "metadata": {},
   "outputs": [
    {
     "name": "stdout",
     "output_type": "stream",
     "text": [
      "              precision    recall  f1-score   support\n",
      "\n",
      "           0       0.95      0.97      0.96       911\n",
      "           1       0.78      0.70      0.74       152\n",
      "\n",
      "    accuracy                           0.93      1063\n",
      "   macro avg       0.87      0.84      0.85      1063\n",
      "weighted avg       0.93      0.93      0.93      1063\n",
      "\n"
     ]
    },
    {
     "data": {
      "image/png": "[encoded data removed]",
      "text/plain": [
       "<Figure size 360x360 with 1 Axes>"
      ]
     },
     "metadata": {
      "needs_background": "light"
     },
     "output_type": "display_data"
    }
   ],
   "source": [
    "reporting(exp2_preds, y_val_exp2)"
   ]
  },
  {
   "cell_type": "markdown",
   "id": "8cf701ca-ae7f-4006-9d48-09534b30fdb4",
   "metadata": {},
   "source": [
    "Clearly, We can see that the model trained on the engineered featuers could achieve about 3% higher in the total accuracy \n",
    "\n",
    "and could classify better on the both classes, That means it's little imbaised"
   ]
  },
  {
   "cell_type": "code",
   "execution_count": 34,
   "id": "13b5e431-fec8-4193-902b-abf404e5a0c0",
   "metadata": {},
   "outputs": [
    {
     "data": {
      "text/html": [
       "\n",
       "    <style>\n",
       "    table.eli5-weights tr:hover {\n",
       "        filter: brightness(85%);\n",
       "    }\n",
       "</style>\n",
       "\n",
       "\n",
       "\n",
       "    \n",
       "\n",
       "    \n",
       "\n",
       "    \n",
       "\n",
       "    \n",
       "\n",
       "    \n",
       "\n",
       "    \n",
       "\n",
       "\n",
       "    \n",
       "\n",
       "    \n",
       "\n",
       "    \n",
       "\n",
       "    \n",
       "\n",
       "    \n",
       "\n",
       "    \n",
       "\n",
       "\n",
       "    \n",
       "\n",
       "    \n",
       "\n",
       "    \n",
       "\n",
       "    \n",
       "\n",
       "    \n",
       "        <table class=\"eli5-weights eli5-feature-importances\" style=\"border-collapse: collapse; border: none; margin-top: 0em; table-layout: auto;\">\n",
       "    <thead>\n",
       "    <tr style=\"border: none;\">\n",
       "        <th style=\"padding: 0 1em 0 0.5em; text-align: right; border: none;\">Weight</th>\n",
       "        <th style=\"padding: 0 0.5em 0 0.5em; text-align: left; border: none;\">Feature</th>\n",
       "    </tr>\n",
       "    </thead>\n",
       "    <tbody>\n",
       "    \n",
       "        <tr style=\"background-color: hsl(120, 100.00%, 80.00%); border: none;\">\n",
       "            <td style=\"padding: 0 1em 0 0.5em; text-align: right; border: none;\">\n",
       "                0.1106\n",
       "                \n",
       "                    &plusmn; 0.0076\n",
       "                \n",
       "            </td>\n",
       "            <td style=\"padding: 0 0.5em 0 0.5em; text-align: left; border: none;\">\n",
       "                total_charge\n",
       "            </td>\n",
       "        </tr>\n",
       "    \n",
       "        <tr style=\"background-color: hsl(120, 100.00%, 88.83%); border: none;\">\n",
       "            <td style=\"padding: 0 1em 0 0.5em; text-align: right; border: none;\">\n",
       "                0.0482\n",
       "                \n",
       "                    &plusmn; 0.0052\n",
       "                \n",
       "            </td>\n",
       "            <td style=\"padding: 0 0.5em 0 0.5em; text-align: left; border: none;\">\n",
       "                number_customer_service_calls_binned\n",
       "            </td>\n",
       "        </tr>\n",
       "    \n",
       "        <tr style=\"background-color: hsl(120, 100.00%, 91.27%); border: none;\">\n",
       "            <td style=\"padding: 0 1em 0 0.5em; text-align: right; border: none;\">\n",
       "                0.0339\n",
       "                \n",
       "                    &plusmn; 0.0063\n",
       "                \n",
       "            </td>\n",
       "            <td style=\"padding: 0 0.5em 0 0.5em; text-align: left; border: none;\">\n",
       "                international_plan_encoded\n",
       "            </td>\n",
       "        </tr>\n",
       "    \n",
       "        <tr style=\"background-color: hsl(120, 100.00%, 93.35%); border: none;\">\n",
       "            <td style=\"padding: 0 1em 0 0.5em; text-align: right; border: none;\">\n",
       "                0.0230\n",
       "                \n",
       "                    &plusmn; 0.0087\n",
       "                \n",
       "            </td>\n",
       "            <td style=\"padding: 0 0.5em 0 0.5em; text-align: left; border: none;\">\n",
       "                voice_mail_plan_encoded\n",
       "            </td>\n",
       "        </tr>\n",
       "    \n",
       "        <tr style=\"background-color: hsl(120, 100.00%, 94.75%); border: none;\">\n",
       "            <td style=\"padding: 0 1em 0 0.5em; text-align: right; border: none;\">\n",
       "                0.0164\n",
       "                \n",
       "                    &plusmn; 0.0067\n",
       "                \n",
       "            </td>\n",
       "            <td style=\"padding: 0 0.5em 0 0.5em; text-align: left; border: none;\">\n",
       "                total_intl_calls\n",
       "            </td>\n",
       "        </tr>\n",
       "    \n",
       "        <tr style=\"background-color: hsl(120, 100.00%, 95.72%); border: none;\">\n",
       "            <td style=\"padding: 0 1em 0 0.5em; text-align: right; border: none;\">\n",
       "                0.0122\n",
       "                \n",
       "                    &plusmn; 0.0052\n",
       "                \n",
       "            </td>\n",
       "            <td style=\"padding: 0 0.5em 0 0.5em; text-align: left; border: none;\">\n",
       "                total_intl_minutes\n",
       "            </td>\n",
       "        </tr>\n",
       "    \n",
       "        <tr style=\"background-color: hsl(120, 100.00%, 97.69%); border: none;\">\n",
       "            <td style=\"padding: 0 1em 0 0.5em; text-align: right; border: none;\">\n",
       "                0.0051\n",
       "                \n",
       "                    &plusmn; 0.0061\n",
       "                \n",
       "            </td>\n",
       "            <td style=\"padding: 0 0.5em 0 0.5em; text-align: left; border: none;\">\n",
       "                number_vmail_messages\n",
       "            </td>\n",
       "        </tr>\n",
       "    \n",
       "        <tr style=\"background-color: hsl(120, 100.00%, 97.87%); border: none;\">\n",
       "            <td style=\"padding: 0 1em 0 0.5em; text-align: right; border: none;\">\n",
       "                0.0045\n",
       "                \n",
       "                    &plusmn; 0.0018\n",
       "                \n",
       "            </td>\n",
       "            <td style=\"padding: 0 0.5em 0 0.5em; text-align: left; border: none;\">\n",
       "                state_3\n",
       "            </td>\n",
       "        </tr>\n",
       "    \n",
       "        <tr style=\"background-color: hsl(120, 100.00%, 98.47%); border: none;\">\n",
       "            <td style=\"padding: 0 1em 0 0.5em; text-align: right; border: none;\">\n",
       "                0.0028\n",
       "                \n",
       "                    &plusmn; 0.0017\n",
       "                \n",
       "            </td>\n",
       "            <td style=\"padding: 0 0.5em 0 0.5em; text-align: left; border: none;\">\n",
       "                state_1\n",
       "            </td>\n",
       "        </tr>\n",
       "    \n",
       "        <tr style=\"background-color: hsl(120, 100.00%, 98.54%); border: none;\">\n",
       "            <td style=\"padding: 0 1em 0 0.5em; text-align: right; border: none;\">\n",
       "                0.0026\n",
       "                \n",
       "                    &plusmn; 0.0025\n",
       "                \n",
       "            </td>\n",
       "            <td style=\"padding: 0 0.5em 0 0.5em; text-align: left; border: none;\">\n",
       "                state_0\n",
       "            </td>\n",
       "        </tr>\n",
       "    \n",
       "        <tr style=\"background-color: hsl(120, 100.00%, 98.61%); border: none;\">\n",
       "            <td style=\"padding: 0 1em 0 0.5em; text-align: right; border: none;\">\n",
       "                0.0024\n",
       "                \n",
       "                    &plusmn; 0.0044\n",
       "                \n",
       "            </td>\n",
       "            <td style=\"padding: 0 0.5em 0 0.5em; text-align: left; border: none;\">\n",
       "                total_eve_calls\n",
       "            </td>\n",
       "        </tr>\n",
       "    \n",
       "        <tr style=\"background-color: hsl(120, 100.00%, 99.10%); border: none;\">\n",
       "            <td style=\"padding: 0 1em 0 0.5em; text-align: right; border: none;\">\n",
       "                0.0013\n",
       "                \n",
       "                    &plusmn; 0.0059\n",
       "                \n",
       "            </td>\n",
       "            <td style=\"padding: 0 0.5em 0 0.5em; text-align: left; border: none;\">\n",
       "                total_eve_minutes\n",
       "            </td>\n",
       "        </tr>\n",
       "    \n",
       "        <tr style=\"background-color: hsl(120, 100.00%, 99.19%); border: none;\">\n",
       "            <td style=\"padding: 0 1em 0 0.5em; text-align: right; border: none;\">\n",
       "                0.0011\n",
       "                \n",
       "                    &plusmn; 0.0032\n",
       "                \n",
       "            </td>\n",
       "            <td style=\"padding: 0 0.5em 0 0.5em; text-align: left; border: none;\">\n",
       "                state_2\n",
       "            </td>\n",
       "        </tr>\n",
       "    \n",
       "        <tr style=\"background-color: hsl(0, 100.00%, 100.00%); border: none;\">\n",
       "            <td style=\"padding: 0 1em 0 0.5em; text-align: right; border: none;\">\n",
       "                -0.0000\n",
       "                \n",
       "                    &plusmn; 0.0034\n",
       "                \n",
       "            </td>\n",
       "            <td style=\"padding: 0 0.5em 0 0.5em; text-align: left; border: none;\">\n",
       "                total_night_calls\n",
       "            </td>\n",
       "        </tr>\n",
       "    \n",
       "        <tr style=\"background-color: hsl(0, 100.00%, 99.77%); border: none;\">\n",
       "            <td style=\"padding: 0 1em 0 0.5em; text-align: right; border: none;\">\n",
       "                -0.0002\n",
       "                \n",
       "                    &plusmn; 0.0022\n",
       "                \n",
       "            </td>\n",
       "            <td style=\"padding: 0 0.5em 0 0.5em; text-align: left; border: none;\">\n",
       "                account_length\n",
       "            </td>\n",
       "        </tr>\n",
       "    \n",
       "        <tr style=\"background-color: hsl(0, 100.00%, 99.63%); border: none;\">\n",
       "            <td style=\"padding: 0 1em 0 0.5em; text-align: right; border: none;\">\n",
       "                -0.0004\n",
       "                \n",
       "                    &plusmn; 0.0028\n",
       "                \n",
       "            </td>\n",
       "            <td style=\"padding: 0 0.5em 0 0.5em; text-align: left; border: none;\">\n",
       "                total_night_minutes\n",
       "            </td>\n",
       "        </tr>\n",
       "    \n",
       "        <tr style=\"background-color: hsl(0, 100.00%, 99.50%); border: none;\">\n",
       "            <td style=\"padding: 0 1em 0 0.5em; text-align: right; border: none;\">\n",
       "                -0.0006\n",
       "                \n",
       "                    &plusmn; 0.0015\n",
       "                \n",
       "            </td>\n",
       "            <td style=\"padding: 0 0.5em 0 0.5em; text-align: left; border: none;\">\n",
       "                total_day_calls\n",
       "            </td>\n",
       "        </tr>\n",
       "    \n",
       "        <tr style=\"background-color: hsl(0, 100.00%, 98.93%); border: none;\">\n",
       "            <td style=\"padding: 0 1em 0 0.5em; text-align: right; border: none;\">\n",
       "                -0.0017\n",
       "                \n",
       "                    &plusmn; 0.0028\n",
       "                \n",
       "            </td>\n",
       "            <td style=\"padding: 0 0.5em 0 0.5em; text-align: left; border: none;\">\n",
       "                state_5\n",
       "            </td>\n",
       "        </tr>\n",
       "    \n",
       "        <tr style=\"background-color: hsl(0, 100.00%, 98.93%); border: none;\">\n",
       "            <td style=\"padding: 0 1em 0 0.5em; text-align: right; border: none;\">\n",
       "                -0.0017\n",
       "                \n",
       "                    &plusmn; 0.0014\n",
       "                \n",
       "            </td>\n",
       "            <td style=\"padding: 0 0.5em 0 0.5em; text-align: left; border: none;\">\n",
       "                state_4\n",
       "            </td>\n",
       "        </tr>\n",
       "    \n",
       "    \n",
       "    </tbody>\n",
       "</table>\n",
       "    \n",
       "\n",
       "    \n",
       "\n",
       "\n",
       "    \n",
       "\n",
       "    \n",
       "\n",
       "    \n",
       "\n",
       "    \n",
       "\n",
       "    \n",
       "\n",
       "    \n",
       "\n",
       "\n",
       "\n"
      ],
      "text/plain": [
       "<IPython.core.display.HTML object>"
      ]
     },
     "execution_count": 34,
     "metadata": {},
     "output_type": "execute_result"
    }
   ],
   "source": [
    "perm = PermutationImportance(rf_clf1, random_state=1).fit(X_val_exp1, y_val_exp1)\n",
    "eli5.show_weights(perm, feature_names = X_val_exp1.columns.tolist())\n"
   ]
  },
  {
   "cell_type": "code",
   "execution_count": 35,
   "id": "abbe5ecc-b741-4cdc-93e4-f965baa9207c",
   "metadata": {},
   "outputs": [
    {
     "data": {
      "text/html": [
       "\n",
       "    <style>\n",
       "    table.eli5-weights tr:hover {\n",
       "        filter: brightness(85%);\n",
       "    }\n",
       "</style>\n",
       "\n",
       "\n",
       "\n",
       "    \n",
       "\n",
       "    \n",
       "\n",
       "    \n",
       "\n",
       "    \n",
       "\n",
       "    \n",
       "\n",
       "    \n",
       "\n",
       "\n",
       "    \n",
       "\n",
       "    \n",
       "\n",
       "    \n",
       "\n",
       "    \n",
       "\n",
       "    \n",
       "\n",
       "    \n",
       "\n",
       "\n",
       "    \n",
       "\n",
       "    \n",
       "\n",
       "    \n",
       "\n",
       "    \n",
       "\n",
       "    \n",
       "        <table class=\"eli5-weights eli5-feature-importances\" style=\"border-collapse: collapse; border: none; margin-top: 0em; table-layout: auto;\">\n",
       "    <thead>\n",
       "    <tr style=\"border: none;\">\n",
       "        <th style=\"padding: 0 1em 0 0.5em; text-align: right; border: none;\">Weight</th>\n",
       "        <th style=\"padding: 0 0.5em 0 0.5em; text-align: left; border: none;\">Feature</th>\n",
       "    </tr>\n",
       "    </thead>\n",
       "    <tbody>\n",
       "    \n",
       "        <tr style=\"background-color: hsl(120, 100.00%, 80.00%); border: none;\">\n",
       "            <td style=\"padding: 0 1em 0 0.5em; text-align: right; border: none;\">\n",
       "                0.0918\n",
       "                \n",
       "                    &plusmn; 0.0174\n",
       "                \n",
       "            </td>\n",
       "            <td style=\"padding: 0 0.5em 0 0.5em; text-align: left; border: none;\">\n",
       "                total_day_charge\n",
       "            </td>\n",
       "        </tr>\n",
       "    \n",
       "        <tr style=\"background-color: hsl(120, 100.00%, 87.55%); border: none;\">\n",
       "            <td style=\"padding: 0 1em 0 0.5em; text-align: right; border: none;\">\n",
       "                0.0467\n",
       "                \n",
       "                    &plusmn; 0.0070\n",
       "                \n",
       "            </td>\n",
       "            <td style=\"padding: 0 0.5em 0 0.5em; text-align: left; border: none;\">\n",
       "                number_customer_service_calls\n",
       "            </td>\n",
       "        </tr>\n",
       "    \n",
       "        <tr style=\"background-color: hsl(120, 100.00%, 91.24%); border: none;\">\n",
       "            <td style=\"padding: 0 1em 0 0.5em; text-align: right; border: none;\">\n",
       "                0.0282\n",
       "                \n",
       "                    &plusmn; 0.0061\n",
       "                \n",
       "            </td>\n",
       "            <td style=\"padding: 0 0.5em 0 0.5em; text-align: left; border: none;\">\n",
       "                international_plan_encoded\n",
       "            </td>\n",
       "        </tr>\n",
       "    \n",
       "        <tr style=\"background-color: hsl(120, 100.00%, 93.04%); border: none;\">\n",
       "            <td style=\"padding: 0 1em 0 0.5em; text-align: right; border: none;\">\n",
       "                0.0203\n",
       "                \n",
       "                    &plusmn; 0.0147\n",
       "                \n",
       "            </td>\n",
       "            <td style=\"padding: 0 0.5em 0 0.5em; text-align: left; border: none;\">\n",
       "                total_eve_charge\n",
       "            </td>\n",
       "        </tr>\n",
       "    \n",
       "        <tr style=\"background-color: hsl(120, 100.00%, 94.61%); border: none;\">\n",
       "            <td style=\"padding: 0 1em 0 0.5em; text-align: right; border: none;\">\n",
       "                0.0141\n",
       "                \n",
       "                    &plusmn; 0.0070\n",
       "                \n",
       "            </td>\n",
       "            <td style=\"padding: 0 0.5em 0 0.5em; text-align: left; border: none;\">\n",
       "                voice_mail_plan_encoded\n",
       "            </td>\n",
       "        </tr>\n",
       "    \n",
       "        <tr style=\"background-color: hsl(120, 100.00%, 95.61%); border: none;\">\n",
       "            <td style=\"padding: 0 1em 0 0.5em; text-align: right; border: none;\">\n",
       "                0.0105\n",
       "                \n",
       "                    &plusmn; 0.0098\n",
       "                \n",
       "            </td>\n",
       "            <td style=\"padding: 0 0.5em 0 0.5em; text-align: left; border: none;\">\n",
       "                total_intl_calls\n",
       "            </td>\n",
       "        </tr>\n",
       "    \n",
       "        <tr style=\"background-color: hsl(120, 100.00%, 96.23%); border: none;\">\n",
       "            <td style=\"padding: 0 1em 0 0.5em; text-align: right; border: none;\">\n",
       "                0.0085\n",
       "                \n",
       "                    &plusmn; 0.0059\n",
       "                \n",
       "            </td>\n",
       "            <td style=\"padding: 0 0.5em 0 0.5em; text-align: left; border: none;\">\n",
       "                total_intl_charge\n",
       "            </td>\n",
       "        </tr>\n",
       "    \n",
       "        <tr style=\"background-color: hsl(120, 100.00%, 96.71%); border: none;\">\n",
       "            <td style=\"padding: 0 1em 0 0.5em; text-align: right; border: none;\">\n",
       "                0.0070\n",
       "                \n",
       "                    &plusmn; 0.0039\n",
       "                \n",
       "            </td>\n",
       "            <td style=\"padding: 0 0.5em 0 0.5em; text-align: left; border: none;\">\n",
       "                state_2\n",
       "            </td>\n",
       "        </tr>\n",
       "    \n",
       "        <tr style=\"background-color: hsl(120, 100.00%, 96.77%); border: none;\">\n",
       "            <td style=\"padding: 0 1em 0 0.5em; text-align: right; border: none;\">\n",
       "                0.0068\n",
       "                \n",
       "                    &plusmn; 0.0070\n",
       "                \n",
       "            </td>\n",
       "            <td style=\"padding: 0 0.5em 0 0.5em; text-align: left; border: none;\">\n",
       "                total_night_charge\n",
       "            </td>\n",
       "        </tr>\n",
       "    \n",
       "        <tr style=\"background-color: hsl(120, 100.00%, 97.94%); border: none;\">\n",
       "            <td style=\"padding: 0 1em 0 0.5em; text-align: right; border: none;\">\n",
       "                0.0036\n",
       "                \n",
       "                    &plusmn; 0.0065\n",
       "                \n",
       "            </td>\n",
       "            <td style=\"padding: 0 0.5em 0 0.5em; text-align: left; border: none;\">\n",
       "                state_0\n",
       "            </td>\n",
       "        </tr>\n",
       "    \n",
       "        <tr style=\"background-color: hsl(120, 100.00%, 98.25%); border: none;\">\n",
       "            <td style=\"padding: 0 1em 0 0.5em; text-align: right; border: none;\">\n",
       "                0.0028\n",
       "                \n",
       "                    &plusmn; 0.0024\n",
       "                \n",
       "            </td>\n",
       "            <td style=\"padding: 0 0.5em 0 0.5em; text-align: left; border: none;\">\n",
       "                total_eve_calls\n",
       "            </td>\n",
       "        </tr>\n",
       "    \n",
       "        <tr style=\"background-color: hsl(120, 100.00%, 98.51%); border: none;\">\n",
       "            <td style=\"padding: 0 1em 0 0.5em; text-align: right; border: none;\">\n",
       "                0.0023\n",
       "                \n",
       "                    &plusmn; 0.0035\n",
       "                \n",
       "            </td>\n",
       "            <td style=\"padding: 0 0.5em 0 0.5em; text-align: left; border: none;\">\n",
       "                state_5\n",
       "            </td>\n",
       "        </tr>\n",
       "    \n",
       "        <tr style=\"background-color: hsl(120, 100.00%, 98.59%); border: none;\">\n",
       "            <td style=\"padding: 0 1em 0 0.5em; text-align: right; border: none;\">\n",
       "                0.0021\n",
       "                \n",
       "                    &plusmn; 0.0025\n",
       "                \n",
       "            </td>\n",
       "            <td style=\"padding: 0 0.5em 0 0.5em; text-align: left; border: none;\">\n",
       "                total_day_calls\n",
       "            </td>\n",
       "        </tr>\n",
       "    \n",
       "        <tr style=\"background-color: hsl(120, 100.00%, 98.98%); border: none;\">\n",
       "            <td style=\"padding: 0 1em 0 0.5em; text-align: right; border: none;\">\n",
       "                0.0013\n",
       "                \n",
       "                    &plusmn; 0.0053\n",
       "                \n",
       "            </td>\n",
       "            <td style=\"padding: 0 0.5em 0 0.5em; text-align: left; border: none;\">\n",
       "                account_length\n",
       "            </td>\n",
       "        </tr>\n",
       "    \n",
       "        <tr style=\"background-color: hsl(0, 100.00%, 99.08%); border: none;\">\n",
       "            <td style=\"padding: 0 1em 0 0.5em; text-align: right; border: none;\">\n",
       "                -0.0011\n",
       "                \n",
       "                    &plusmn; 0.0044\n",
       "                \n",
       "            </td>\n",
       "            <td style=\"padding: 0 0.5em 0 0.5em; text-align: left; border: none;\">\n",
       "                number_vmail_messages\n",
       "            </td>\n",
       "        </tr>\n",
       "    \n",
       "        <tr style=\"background-color: hsl(0, 100.00%, 98.98%); border: none;\">\n",
       "            <td style=\"padding: 0 1em 0 0.5em; text-align: right; border: none;\">\n",
       "                -0.0013\n",
       "                \n",
       "                    &plusmn; 0.0059\n",
       "                \n",
       "            </td>\n",
       "            <td style=\"padding: 0 0.5em 0 0.5em; text-align: left; border: none;\">\n",
       "                state_4\n",
       "            </td>\n",
       "        </tr>\n",
       "    \n",
       "        <tr style=\"background-color: hsl(0, 100.00%, 98.42%); border: none;\">\n",
       "            <td style=\"padding: 0 1em 0 0.5em; text-align: right; border: none;\">\n",
       "                -0.0024\n",
       "                \n",
       "                    &plusmn; 0.0028\n",
       "                \n",
       "            </td>\n",
       "            <td style=\"padding: 0 0.5em 0 0.5em; text-align: left; border: none;\">\n",
       "                total_night_calls\n",
       "            </td>\n",
       "        </tr>\n",
       "    \n",
       "        <tr style=\"background-color: hsl(0, 100.00%, 98.25%); border: none;\">\n",
       "            <td style=\"padding: 0 1em 0 0.5em; text-align: right; border: none;\">\n",
       "                -0.0028\n",
       "                \n",
       "                    &plusmn; 0.0049\n",
       "                \n",
       "            </td>\n",
       "            <td style=\"padding: 0 0.5em 0 0.5em; text-align: left; border: none;\">\n",
       "                state_3\n",
       "            </td>\n",
       "        </tr>\n",
       "    \n",
       "        <tr style=\"background-color: hsl(0, 100.00%, 97.10%); border: none;\">\n",
       "            <td style=\"padding: 0 1em 0 0.5em; text-align: right; border: none;\">\n",
       "                -0.0058\n",
       "                \n",
       "                    &plusmn; 0.0028\n",
       "                \n",
       "            </td>\n",
       "            <td style=\"padding: 0 0.5em 0 0.5em; text-align: left; border: none;\">\n",
       "                state_1\n",
       "            </td>\n",
       "        </tr>\n",
       "    \n",
       "    \n",
       "    </tbody>\n",
       "</table>\n",
       "    \n",
       "\n",
       "    \n",
       "\n",
       "\n",
       "    \n",
       "\n",
       "    \n",
       "\n",
       "    \n",
       "\n",
       "    \n",
       "\n",
       "    \n",
       "\n",
       "    \n",
       "\n",
       "\n",
       "\n"
      ],
      "text/plain": [
       "<IPython.core.display.HTML object>"
      ]
     },
     "execution_count": 35,
     "metadata": {},
     "output_type": "execute_result"
    }
   ],
   "source": [
    "perm = PermutationImportance(rf_clf2, random_state=1).fit(X_val_exp2, y_val_exp2)\n",
    "eli5.show_weights(perm, feature_names = X_val_exp2.columns.tolist())"
   ]
  },
  {
   "cell_type": "markdown",
   "id": "64271937-a830-4d1e-842a-99766fb76baf",
   "metadata": {},
   "source": [
    "We could also see that the engineered features got higher weights in the model"
   ]
  },
  {
   "cell_type": "markdown",
   "id": "4c46eff6-c4dc-4a67-aab7-e7b5aabcaf32",
   "metadata": {},
   "source": [
    "## Deep Learning <a class=\"anchor\" id=\"deep_learning\"></a>"
   ]
  },
  {
   "cell_type": "markdown",
   "id": "69c3abcd-b2a8-4c39-b826-e0ada1d06c77",
   "metadata": {},
   "source": [
    "Giving a try to test a Neural Network.\n",
    "\n",
    "Altough Deep Learning is more intelligent than Machine Learining, it needs huge dataset to be able to perform better than ML "
   ]
  },
  {
   "cell_type": "code",
   "execution_count": 36,
   "id": "8170aef5-1c9f-4c72-9ed2-64068fa25d79",
   "metadata": {},
   "outputs": [],
   "source": [
    "from tensorflow import keras\n",
    "from tensorflow.keras import layers\n",
    "from tensorflow.keras import callbacks"
   ]
  },
  {
   "cell_type": "code",
   "execution_count": 37,
   "id": "5949e640-98d6-428d-b1ce-8f472cb3b7be",
   "metadata": {},
   "outputs": [],
   "source": [
    "early_stopping = callbacks.EarlyStopping(patience = 5 ,min_delta = 0.001, restore_best_weights =True )\n",
    "input_shape = [X_exp1.shape[1]]"
   ]
  },
  {
   "cell_type": "code",
   "execution_count": 38,
   "id": "b93645b7-6f1e-434b-bd87-1389669e8642",
   "metadata": {},
   "outputs": [
    {
     "name": "stdout",
     "output_type": "stream",
     "text": [
      "Epoch 1/50\n",
      "84/84 [==============================] - 1s 4ms/step - loss: 0.5634 - accuracy: 0.7369 - val_loss: 0.4681 - val_accuracy: 0.8288\n",
      "Epoch 2/50\n",
      "84/84 [==============================] - 0s 2ms/step - loss: 0.4580 - accuracy: 0.8090 - val_loss: 0.4338 - val_accuracy: 0.8184\n",
      "Epoch 3/50\n",
      "84/84 [==============================] - 0s 1ms/step - loss: 0.4047 - accuracy: 0.8304 - val_loss: 0.3684 - val_accuracy: 0.8589\n",
      "Epoch 4/50\n",
      "84/84 [==============================] - 0s 1ms/step - loss: 0.3715 - accuracy: 0.8396 - val_loss: 0.3628 - val_accuracy: 0.8561\n",
      "Epoch 5/50\n",
      "84/84 [==============================] - 0s 1ms/step - loss: 0.3479 - accuracy: 0.8498 - val_loss: 0.3305 - val_accuracy: 0.8674\n",
      "Epoch 6/50\n",
      "84/84 [==============================] - 0s 2ms/step - loss: 0.3306 - accuracy: 0.8528 - val_loss: 0.3234 - val_accuracy: 0.8692\n",
      "Epoch 7/50\n",
      "84/84 [==============================] - 0s 1ms/step - loss: 0.3160 - accuracy: 0.8652 - val_loss: 0.3310 - val_accuracy: 0.8730\n",
      "Epoch 8/50\n",
      "84/84 [==============================] - 0s 1ms/step - loss: 0.3028 - accuracy: 0.8701 - val_loss: 0.3006 - val_accuracy: 0.8749\n",
      "Epoch 9/50\n",
      "84/84 [==============================] - 0s 2ms/step - loss: 0.2921 - accuracy: 0.8721 - val_loss: 0.2946 - val_accuracy: 0.8824\n",
      "Epoch 10/50\n",
      "84/84 [==============================] - 0s 1ms/step - loss: 0.2815 - accuracy: 0.8783 - val_loss: 0.2942 - val_accuracy: 0.8805\n",
      "Epoch 11/50\n",
      "84/84 [==============================] - 0s 2ms/step - loss: 0.2727 - accuracy: 0.8815 - val_loss: 0.3079 - val_accuracy: 0.8758\n",
      "Epoch 12/50\n",
      "84/84 [==============================] - 0s 2ms/step - loss: 0.2640 - accuracy: 0.8834 - val_loss: 0.2847 - val_accuracy: 0.8928\n",
      "Epoch 13/50\n",
      "84/84 [==============================] - 0s 1ms/step - loss: 0.2561 - accuracy: 0.8911 - val_loss: 0.3029 - val_accuracy: 0.8852\n",
      "Epoch 14/50\n",
      "84/84 [==============================] - 0s 1ms/step - loss: 0.2499 - accuracy: 0.8924 - val_loss: 0.2932 - val_accuracy: 0.8890\n",
      "Epoch 15/50\n",
      "84/84 [==============================] - 0s 1ms/step - loss: 0.2431 - accuracy: 0.8928 - val_loss: 0.2705 - val_accuracy: 0.9022\n",
      "Epoch 16/50\n",
      "84/84 [==============================] - 0s 1ms/step - loss: 0.2360 - accuracy: 0.8977 - val_loss: 0.2807 - val_accuracy: 0.9012\n",
      "Epoch 17/50\n",
      "84/84 [==============================] - 0s 1ms/step - loss: 0.2315 - accuracy: 0.8992 - val_loss: 0.2527 - val_accuracy: 0.9069\n",
      "Epoch 18/50\n",
      "84/84 [==============================] - 0s 1ms/step - loss: 0.2267 - accuracy: 0.9028 - val_loss: 0.2714 - val_accuracy: 0.8993\n",
      "Epoch 19/50\n",
      "84/84 [==============================] - 0s 1ms/step - loss: 0.2202 - accuracy: 0.9041 - val_loss: 0.2484 - val_accuracy: 0.9125\n",
      "Epoch 20/50\n",
      "84/84 [==============================] - 0s 1ms/step - loss: 0.2165 - accuracy: 0.9069 - val_loss: 0.2691 - val_accuracy: 0.9003\n",
      "Epoch 21/50\n",
      "84/84 [==============================] - 0s 1ms/step - loss: 0.2120 - accuracy: 0.9103 - val_loss: 0.2529 - val_accuracy: 0.9078\n",
      "Epoch 22/50\n",
      "84/84 [==============================] - 0s 1ms/step - loss: 0.2081 - accuracy: 0.9131 - val_loss: 0.2562 - val_accuracy: 0.9078\n",
      "Epoch 23/50\n",
      "84/84 [==============================] - 0s 2ms/step - loss: 0.2023 - accuracy: 0.9150 - val_loss: 0.2773 - val_accuracy: 0.9031\n",
      "Epoch 24/50\n",
      "84/84 [==============================] - 0s 2ms/step - loss: 0.1991 - accuracy: 0.9180 - val_loss: 0.2501 - val_accuracy: 0.9087\n",
      "Minimum Validation Loss: 0.2484\n"
     ]
    },
    {
     "data": {
      "image/png": "[encoded data removed]",
      "text/plain": [
       "<Figure size 360x360 with 1 Axes>"
      ]
     },
     "metadata": {
      "needs_background": "light"
     },
     "output_type": "display_data"
    }
   ],
   "source": [
    "model = keras.Sequential([\n",
    "    layers.Dense(32, activation='relu', input_shape=input_shape),\n",
    "    layers.Dense(16, activation='relu'),    \n",
    "    layers.Dense(1 , activation='sigmoid' )\n",
    "    \n",
    "])\n",
    "model.compile(\n",
    "    optimizer='adam',\n",
    "   loss='binary_crossentropy',\n",
    "    metrics=['accuracy']\n",
    ")\n",
    "history = model.fit(\n",
    "    X_exp1, y_exp1,\n",
    "    validation_data=(X_val_exp1, y_val_exp1),\n",
    "    batch_size=64,\n",
    "    epochs=50,\n",
    "    callbacks=[early_stopping] # to avoid overfitting\n",
    ")\n",
    "history_df = pd.DataFrame(history.history)\n",
    "history_df.loc[:, ['loss', 'val_loss']].plot()\n",
    "print(\"Minimum Validation Loss: {:0.4f}\".format(history_df['val_loss'].min()));"
   ]
  },
  {
   "cell_type": "code",
   "execution_count": 39,
   "id": "ea39967f-7126-40a0-ad1a-97c3f55edaaf",
   "metadata": {},
   "outputs": [],
   "source": [
    "prdsss = model.predict(X_val_exp1)"
   ]
  },
  {
   "cell_type": "code",
   "execution_count": 40,
   "id": "41f6991c-6489-4203-87cb-1037c4b9d52f",
   "metadata": {},
   "outputs": [],
   "source": [
    "prdsss = [1 * (x[0]>=0.5) for x in prdsss]\n"
   ]
  },
  {
   "cell_type": "code",
   "execution_count": 41,
   "id": "764c62a7-0133-48c2-94e5-537992120525",
   "metadata": {},
   "outputs": [
    {
     "name": "stdout",
     "output_type": "stream",
     "text": [
      "              precision    recall  f1-score   support\n",
      "\n",
      "           0       0.93      0.97      0.95       895\n",
      "           1       0.77      0.63      0.70       168\n",
      "\n",
      "    accuracy                           0.91      1063\n",
      "   macro avg       0.85      0.80      0.82      1063\n",
      "weighted avg       0.91      0.91      0.91      1063\n",
      "\n"
     ]
    },
    {
     "data": {
      "image/png": "[encoded data removed]",
      "text/plain": [
       "<Figure size 360x360 with 1 Axes>"
      ]
     },
     "metadata": {
      "needs_background": "light"
     },
     "output_type": "display_data"
    }
   ],
   "source": [
    "reporting(prdsss, y_val_exp1)"
   ]
  },
  {
   "cell_type": "code",
   "execution_count": null,
   "id": "a3995eee-ae5f-4b56-b39e-66aa7ffd4f04",
   "metadata": {},
   "outputs": [],
   "source": []
  },
  {
   "cell_type": "code",
   "execution_count": null,
   "id": "fec326af-378e-44ff-af32-9731a92a70db",
   "metadata": {},
   "outputs": [],
   "source": []
  }
 ],
 "metadata": {
  "kernelspec": {
   "display_name": "Python 3",
   "language": "python",
   "name": "python3"
  },
  "language_info": {
   "codemirror_mode": {
    "name": "ipython",
    "version": 3
   },
   "file_extension": ".py",
   "mimetype": "text/x-python",
   "name": "python",
   "nbconvert_exporter": "python",
   "pygments_lexer": "ipython3",
   "version": "3.8.11"
  }
 },
 "nbformat": 4,
 "nbformat_minor": 5
}
